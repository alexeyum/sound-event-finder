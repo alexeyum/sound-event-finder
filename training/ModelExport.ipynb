{
  "nbformat": 4,
  "nbformat_minor": 0,
  "metadata": {
    "colab": {
      "provenance": []
    },
    "kernelspec": {
      "name": "python3",
      "display_name": "Python 3"
    },
    "language_info": {
      "name": "python"
    }
  },
  "cells": [
    {
      "cell_type": "code",
      "source": [
        "import os.path\n",
        "\n",
        "import torch\n",
        "from torch.utils.mobile_optimizer import optimize_for_mobile"
      ],
      "metadata": {
        "id": "CM0xUzxcrztF"
      },
      "execution_count": 8,
      "outputs": []
    },
    {
      "cell_type": "code",
      "execution_count": 9,
      "metadata": {
        "id": "z6Ro5qEGUi9L"
      },
      "outputs": [],
      "source": [
        "import sys\n",
        "sys.path.append('./drive/MyDrive/Projects/MiniSoundFinder/lib/')\n",
        "\n",
        "import classifiers"
      ]
    },
    {
      "cell_type": "code",
      "source": [
        "experiment_path = './drive/MyDrive/Projects/MiniSoundFinder/experiments/basic_convnet_01'\n",
        "\n",
        "model = classifiers.BasicConvNet(input_channels=1, output_size=10)\n",
        "weights_path = os.path.join(experiment_path, 'model.pth')\n",
        "model.load_state_dict(torch.load(weights_path, map_location=torch.device(\"cpu\")))\n",
        "model.eval()"
      ],
      "metadata": {
        "colab": {
          "base_uri": "https://localhost:8080/"
        },
        "id": "fj40Gsztr2uE",
        "outputId": "a1556c6f-cf97-4839-e722-4d0b55f4e888"
      },
      "execution_count": 10,
      "outputs": [
        {
          "output_type": "execute_result",
          "data": {
            "text/plain": [
              "BasicConvNet(\n",
              "  (features): Sequential(\n",
              "    (0): Conv1d(1, 4, kernel_size=(80,), stride=(64,), bias=False)\n",
              "    (1): BatchNorm1d(4, eps=1e-05, momentum=0.1, affine=True, track_running_stats=True)\n",
              "    (2): ReLU()\n",
              "    (3): Conv1d(4, 16, kernel_size=(3,), stride=(4,), bias=False)\n",
              "    (4): BatchNorm1d(16, eps=1e-05, momentum=0.1, affine=True, track_running_stats=True)\n",
              "    (5): ReLU()\n",
              "    (6): Conv1d(16, 16, kernel_size=(3,), stride=(4,), bias=False)\n",
              "    (7): BatchNorm1d(16, eps=1e-05, momentum=0.1, affine=True, track_running_stats=True)\n",
              "    (8): ReLU()\n",
              "    (9): AdaptiveMaxPool1d(output_size=16)\n",
              "  )\n",
              "  (classifier): Linear(in_features=256, out_features=10, bias=True)\n",
              ")"
            ]
          },
          "metadata": {},
          "execution_count": 10
        }
      ]
    },
    {
      "cell_type": "code",
      "source": [
        "MAX_LENGTH = 384000\n",
        "\n",
        "sample_input = torch.distributions.uniform.Uniform(-10000, 10000).sample((1, 1, MAX_LENGTH))"
      ],
      "metadata": {
        "id": "62XKT81fspXt"
      },
      "execution_count": 12,
      "outputs": []
    },
    {
      "cell_type": "code",
      "source": [
        "traced_script_module = torch.jit.trace(model, sample_input)"
      ],
      "metadata": {
        "id": "cE1pYmsEtRta"
      },
      "execution_count": 13,
      "outputs": []
    },
    {
      "cell_type": "code",
      "source": [
        "traced_script_module_optimized = optimize_for_mobile(traced_script_module)"
      ],
      "metadata": {
        "id": "pO5jnwINtTX5"
      },
      "execution_count": 14,
      "outputs": []
    },
    {
      "cell_type": "code",
      "source": [
        "output_path = './drive/MyDrive/Projects/MiniSoundFinder/exports/'\n",
        "\n",
        "\n",
        "traced_script_module_optimized._save_for_lite_interpreter(\n",
        "    os.path.join(output_path, 'basic_convnet.pt'))"
      ],
      "metadata": {
        "id": "lbWZ22RY3kcE"
      },
      "execution_count": 15,
      "outputs": []
    },
    {
      "cell_type": "code",
      "source": [],
      "metadata": {
        "id": "f_k-ZHTY3-1Q"
      },
      "execution_count": null,
      "outputs": []
    }
  ]
}