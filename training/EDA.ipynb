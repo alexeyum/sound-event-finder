{
 "cells": [
  {
   "cell_type": "markdown",
   "id": "1b32b060",
   "metadata": {},
   "source": [
    "# Loading"
   ]
  },
  {
   "cell_type": "code",
   "execution_count": 1,
   "id": "23dfd18a",
   "metadata": {},
   "outputs": [],
   "source": [
    "!pip install -qq datasets librosa soundfile"
   ]
  },
  {
   "cell_type": "code",
   "execution_count": 2,
   "id": "1bc267ba",
   "metadata": {},
   "outputs": [],
   "source": [
    "from matplotlib import pyplot as plt\n",
    "import pandas as pd\n",
    "\n",
    "from tqdm.notebook import tqdm\n",
    "\n",
    "from datasets import load_dataset"
   ]
  },
  {
   "cell_type": "code",
   "execution_count": 3,
   "id": "6dc7d4d6",
   "metadata": {},
   "outputs": [
    {
     "name": "stderr",
     "output_type": "stream",
     "text": [
      "Found cached dataset parquet (/Users/alexeyum/.cache/huggingface/datasets/danavery___parquet/danavery--urbansound8K-0451d478d9953c7d/0.0.0/2a3b91fbd88a2c90d1dbbb32b460cf621d31bd5b05b934492fdef7d8d6f236ec)\n"
     ]
    },
    {
     "data": {
      "application/vnd.jupyter.widget-view+json": {
       "model_id": "e7ac8d8498a242baa0f6bbb0914add79",
       "version_major": 2,
       "version_minor": 0
      },
      "text/plain": [
       "  0%|          | 0/1 [00:00<?, ?it/s]"
      ]
     },
     "metadata": {},
     "output_type": "display_data"
    }
   ],
   "source": [
    "dataset = load_dataset(\"danavery/urbansound8K\")"
   ]
  },
  {
   "cell_type": "markdown",
   "id": "26081610",
   "metadata": {},
   "source": [
    "# Dataset examples and ranges"
   ]
  },
  {
   "cell_type": "code",
   "execution_count": 4,
   "id": "97338fb7",
   "metadata": {},
   "outputs": [
    {
     "data": {
      "text/plain": [
       "DatasetDict({\n",
       "    train: Dataset({\n",
       "        features: ['audio', 'slice_file_name', 'fsID', 'start', 'end', 'salience', 'fold', 'classID', 'class'],\n",
       "        num_rows: 8732\n",
       "    })\n",
       "})"
      ]
     },
     "execution_count": 4,
     "metadata": {},
     "output_type": "execute_result"
    }
   ],
   "source": [
    "dataset"
   ]
  },
  {
   "cell_type": "code",
   "execution_count": 5,
   "id": "4a12eb0e",
   "metadata": {},
   "outputs": [
    {
     "data": {
      "text/plain": [
       "{'path': '100263-2-0-126.wav',\n",
       " 'array': array([ 2.59399414e-04,  1.52587891e-05, -2.13623047e-04, ...,\n",
       "         3.05175781e-04,  4.73022461e-04, -9.46044922e-04]),\n",
       " 'sampling_rate': 44100}"
      ]
     },
     "execution_count": 5,
     "metadata": {},
     "output_type": "execute_result"
    }
   ],
   "source": [
    "dataset['train'][3]['audio']"
   ]
  },
  {
   "cell_type": "code",
   "execution_count": 6,
   "id": "f8a12639",
   "metadata": {},
   "outputs": [
    {
     "data": {
      "text/html": [
       "<div>\n",
       "<style scoped>\n",
       "    .dataframe tbody tr th:only-of-type {\n",
       "        vertical-align: middle;\n",
       "    }\n",
       "\n",
       "    .dataframe tbody tr th {\n",
       "        vertical-align: top;\n",
       "    }\n",
       "\n",
       "    .dataframe thead th {\n",
       "        text-align: right;\n",
       "    }\n",
       "</style>\n",
       "<table border=\"1\" class=\"dataframe\">\n",
       "  <thead>\n",
       "    <tr style=\"text-align: right;\">\n",
       "      <th></th>\n",
       "      <th>0</th>\n",
       "    </tr>\n",
       "  </thead>\n",
       "  <tbody>\n",
       "    <tr>\n",
       "      <th>count</th>\n",
       "      <td>14004.000000</td>\n",
       "    </tr>\n",
       "    <tr>\n",
       "      <th>mean</th>\n",
       "      <td>-0.000005</td>\n",
       "    </tr>\n",
       "    <tr>\n",
       "      <th>std</th>\n",
       "      <td>0.164412</td>\n",
       "    </tr>\n",
       "    <tr>\n",
       "      <th>min</th>\n",
       "      <td>-0.966873</td>\n",
       "    </tr>\n",
       "    <tr>\n",
       "      <th>25%</th>\n",
       "      <td>-0.026585</td>\n",
       "    </tr>\n",
       "    <tr>\n",
       "      <th>50%</th>\n",
       "      <td>-0.000366</td>\n",
       "    </tr>\n",
       "    <tr>\n",
       "      <th>75%</th>\n",
       "      <td>0.020615</td>\n",
       "    </tr>\n",
       "    <tr>\n",
       "      <th>max</th>\n",
       "      <td>0.999969</td>\n",
       "    </tr>\n",
       "  </tbody>\n",
       "</table>\n",
       "</div>"
      ],
      "text/plain": [
       "                  0\n",
       "count  14004.000000\n",
       "mean      -0.000005\n",
       "std        0.164412\n",
       "min       -0.966873\n",
       "25%       -0.026585\n",
       "50%       -0.000366\n",
       "75%        0.020615\n",
       "max        0.999969"
      ]
     },
     "execution_count": 6,
     "metadata": {},
     "output_type": "execute_result"
    }
   ],
   "source": [
    "pd.DataFrame(dataset['train'][0]['audio']['array']).describe()"
   ]
  },
  {
   "cell_type": "code",
   "execution_count": 7,
   "id": "882d76e2",
   "metadata": {},
   "outputs": [
    {
     "data": {
      "text/html": [
       "<div>\n",
       "<style scoped>\n",
       "    .dataframe tbody tr th:only-of-type {\n",
       "        vertical-align: middle;\n",
       "    }\n",
       "\n",
       "    .dataframe tbody tr th {\n",
       "        vertical-align: top;\n",
       "    }\n",
       "\n",
       "    .dataframe thead th {\n",
       "        text-align: right;\n",
       "    }\n",
       "</style>\n",
       "<table border=\"1\" class=\"dataframe\">\n",
       "  <thead>\n",
       "    <tr style=\"text-align: right;\">\n",
       "      <th></th>\n",
       "      <th>0</th>\n",
       "    </tr>\n",
       "  </thead>\n",
       "  <tbody>\n",
       "    <tr>\n",
       "      <th>count</th>\n",
       "      <td>176400.000000</td>\n",
       "    </tr>\n",
       "    <tr>\n",
       "      <th>mean</th>\n",
       "      <td>-0.000067</td>\n",
       "    </tr>\n",
       "    <tr>\n",
       "      <th>std</th>\n",
       "      <td>0.004148</td>\n",
       "    </tr>\n",
       "    <tr>\n",
       "      <th>min</th>\n",
       "      <td>-0.025650</td>\n",
       "    </tr>\n",
       "    <tr>\n",
       "      <th>25%</th>\n",
       "      <td>-0.002625</td>\n",
       "    </tr>\n",
       "    <tr>\n",
       "      <th>50%</th>\n",
       "      <td>-0.000046</td>\n",
       "    </tr>\n",
       "    <tr>\n",
       "      <th>75%</th>\n",
       "      <td>0.002548</td>\n",
       "    </tr>\n",
       "    <tr>\n",
       "      <th>max</th>\n",
       "      <td>0.029205</td>\n",
       "    </tr>\n",
       "  </tbody>\n",
       "</table>\n",
       "</div>"
      ],
      "text/plain": [
       "                   0\n",
       "count  176400.000000\n",
       "mean       -0.000067\n",
       "std         0.004148\n",
       "min        -0.025650\n",
       "25%        -0.002625\n",
       "50%        -0.000046\n",
       "75%         0.002548\n",
       "max         0.029205"
      ]
     },
     "execution_count": 7,
     "metadata": {},
     "output_type": "execute_result"
    }
   ],
   "source": [
    "pd.DataFrame(dataset['train'][1]['audio']['array']).describe()"
   ]
  },
  {
   "cell_type": "markdown",
   "id": "899b3ed6",
   "metadata": {},
   "source": [
    "# Sample length distribution"
   ]
  },
  {
   "cell_type": "code",
   "execution_count": 8,
   "id": "22d9df1c",
   "metadata": {},
   "outputs": [
    {
     "data": {
      "application/vnd.jupyter.widget-view+json": {
       "model_id": "b4581228dc074eadbcf6e5cf1c6a58fe",
       "version_major": 2,
       "version_minor": 0
      },
      "text/plain": [
       "  0%|          | 0/8732 [00:00<?, ?it/s]"
      ]
     },
     "metadata": {},
     "output_type": "display_data"
    }
   ],
   "source": [
    "file_lengths = []\n",
    "for i in tqdm(range(len(dataset['train']))):\n",
    "    file_lengths.append(dataset['train'][i]['audio']['array'].size)"
   ]
  },
  {
   "cell_type": "code",
   "execution_count": 9,
   "id": "da9dc742",
   "metadata": {},
   "outputs": [
    {
     "data": {
      "text/plain": [
       "176400    4523\n",
       "192000    2120\n",
       "384000     460\n",
       "96000       83\n",
       "64000       40\n",
       "          ... \n",
       "138048       1\n",
       "51587        1\n",
       "47866        1\n",
       "45844        1\n",
       "154614       1\n",
       "Length: 1107, dtype: int64"
      ]
     },
     "execution_count": 9,
     "metadata": {},
     "output_type": "execute_result"
    }
   ],
   "source": [
    "pd.Series(file_lengths).value_counts()"
   ]
  },
  {
   "cell_type": "code",
   "execution_count": 10,
   "id": "d41b26b9",
   "metadata": {},
   "outputs": [
    {
     "data": {
      "text/plain": [
       "<AxesSubplot:>"
      ]
     },
     "execution_count": 10,
     "metadata": {},
     "output_type": "execute_result"
    },
    {
     "data": {
      "image/png": "[encoded data removed]",
      "text/plain": [
       "<Figure size 432x288 with 1 Axes>"
      ]
     },
     "metadata": {
      "needs_background": "light"
     },
     "output_type": "display_data"
    }
   ],
   "source": [
    "pd.Series(file_lengths).hist()"
   ]
  },
  {
   "cell_type": "markdown",
   "id": "632dacea",
   "metadata": {},
   "source": [
    "# Sampling rates"
   ]
  },
  {
   "cell_type": "code",
   "execution_count": 12,
   "id": "0baa6b7d",
   "metadata": {},
   "outputs": [
    {
     "data": {
      "application/vnd.jupyter.widget-view+json": {
       "model_id": "1186e5e499e04b47952a278ad08ae628",
       "version_major": 2,
       "version_minor": 0
      },
      "text/plain": [
       "  0%|          | 0/8732 [00:00<?, ?it/s]"
      ]
     },
     "metadata": {},
     "output_type": "display_data"
    }
   ],
   "source": [
    "sampling_rates = {}\n",
    "\n",
    "for i in tqdm(range(len(dataset['train']))):\n",
    "    sr = dataset['train'][i]['audio']['sampling_rate']\n",
    "    if sr not in sampling_rates:\n",
    "        sampling_rates[sr] = 0\n",
    "    sampling_rates[sr] += 1"
   ]
  },
  {
   "cell_type": "code",
   "execution_count": 14,
   "id": "c79d8d33",
   "metadata": {},
   "outputs": [
    {
     "data": {
      "text/plain": [
       "[(44100, 5370),\n",
       " (48000, 2502),\n",
       " (96000, 610),\n",
       " (24000, 82),\n",
       " (16000, 45),\n",
       " (22050, 44),\n",
       " (11025, 39),\n",
       " (192000, 17),\n",
       " (8000, 12),\n",
       " (11024, 7),\n",
       " (32000, 4)]"
      ]
     },
     "execution_count": 14,
     "metadata": {},
     "output_type": "execute_result"
    }
   ],
   "source": [
    "sorted(sampling_rates.items(), key=lambda item: -item[1])"
   ]
  },
  {
   "cell_type": "markdown",
   "id": "0159b119",
   "metadata": {},
   "source": [
    "# Loading examples (android loading debug)"
   ]
  },
  {
   "cell_type": "code",
   "execution_count": 11,
   "id": "e1910c1d",
   "metadata": {},
   "outputs": [
    {
     "data": {
      "text/plain": [
       "{'path': '100795-3-1-2.wav',\n",
       " 'array': array([ 0.00088501,  0.00045776,  0.00056458, ..., -0.01872253,\n",
       "        -0.04367065, -0.07025146]),\n",
       " 'sampling_rate': 44100}"
      ]
     },
     "execution_count": 11,
     "metadata": {},
     "output_type": "execute_result"
    }
   ],
   "source": [
    "dataset['train'][21]['audio']"
   ]
  },
  {
   "cell_type": "code",
   "execution_count": 12,
   "id": "e8bfa36b",
   "metadata": {},
   "outputs": [
    {
     "data": {
      "text/html": [
       "<div>\n",
       "<style scoped>\n",
       "    .dataframe tbody tr th:only-of-type {\n",
       "        vertical-align: middle;\n",
       "    }\n",
       "\n",
       "    .dataframe tbody tr th {\n",
       "        vertical-align: top;\n",
       "    }\n",
       "\n",
       "    .dataframe thead th {\n",
       "        text-align: right;\n",
       "    }\n",
       "</style>\n",
       "<table border=\"1\" class=\"dataframe\">\n",
       "  <thead>\n",
       "    <tr style=\"text-align: right;\">\n",
       "      <th></th>\n",
       "      <th>0</th>\n",
       "    </tr>\n",
       "  </thead>\n",
       "  <tbody>\n",
       "    <tr>\n",
       "      <th>count</th>\n",
       "      <td>176400.000000</td>\n",
       "    </tr>\n",
       "    <tr>\n",
       "      <th>mean</th>\n",
       "      <td>-0.000096</td>\n",
       "    </tr>\n",
       "    <tr>\n",
       "      <th>std</th>\n",
       "      <td>0.082874</td>\n",
       "    </tr>\n",
       "    <tr>\n",
       "      <th>min</th>\n",
       "      <td>-0.653763</td>\n",
       "    </tr>\n",
       "    <tr>\n",
       "      <th>25%</th>\n",
       "      <td>-0.004608</td>\n",
       "    </tr>\n",
       "    <tr>\n",
       "      <th>50%</th>\n",
       "      <td>-0.000122</td>\n",
       "    </tr>\n",
       "    <tr>\n",
       "      <th>75%</th>\n",
       "      <td>0.004364</td>\n",
       "    </tr>\n",
       "    <tr>\n",
       "      <th>max</th>\n",
       "      <td>0.682388</td>\n",
       "    </tr>\n",
       "  </tbody>\n",
       "</table>\n",
       "</div>"
      ],
      "text/plain": [
       "                   0\n",
       "count  176400.000000\n",
       "mean       -0.000096\n",
       "std         0.082874\n",
       "min        -0.653763\n",
       "25%        -0.004608\n",
       "50%        -0.000122\n",
       "75%         0.004364\n",
       "max         0.682388"
      ]
     },
     "execution_count": 12,
     "metadata": {},
     "output_type": "execute_result"
    }
   ],
   "source": [
    "pd.DataFrame(dataset['train'][21]['audio']['array']).describe()"
   ]
  },
  {
   "cell_type": "code",
   "execution_count": 13,
   "id": "8d70ab88",
   "metadata": {},
   "outputs": [
    {
     "data": {
      "text/plain": [
       "[<matplotlib.lines.Line2D at 0x7f8b6a358580>]"
      ]
     },
     "execution_count": 13,
     "metadata": {},
     "output_type": "execute_result"
    },
    {
     "data": {
      "image/png": "[encoded data removed]",
      "text/plain": [
       "<Figure size 432x288 with 1 Axes>"
      ]
     },
     "metadata": {
      "needs_background": "light"
     },
     "output_type": "display_data"
    }
   ],
   "source": [
    "plt.plot(dataset['train'][21]['audio']['array'])"
   ]
  },
  {
   "cell_type": "code",
   "execution_count": 17,
   "id": "8f33440d",
   "metadata": {},
   "outputs": [
    {
     "data": {
      "text/plain": [
       "array([   29. ,    15. ,    18.5, ...,  -613.5, -1431. , -2302. ])"
      ]
     },
     "execution_count": 17,
     "metadata": {},
     "output_type": "execute_result"
    }
   ],
   "source": [
    "dataset['train'][21]['audio']['array'] * 32768"
   ]
  },
  {
   "cell_type": "code",
   "execution_count": 15,
   "id": "6ea8ba26",
   "metadata": {},
   "outputs": [
    {
     "data": {
      "text/plain": [
       "29.0"
      ]
     },
     "execution_count": 15,
     "metadata": {},
     "output_type": "execute_result"
    }
   ],
   "source": [
    "0.5 * (-39.0 + 97.0)"
   ]
  },
  {
   "cell_type": "code",
   "execution_count": null,
   "id": "0c2d4f16",
   "metadata": {},
   "outputs": [],
   "source": []
  }
 ],
 "metadata": {
  "kernelspec": {
   "display_name": "Python 3 (ipykernel)",
   "language": "python",
   "name": "python3"
  },
  "language_info": {
   "codemirror_mode": {
    "name": "ipython",
    "version": 3
   },
   "file_extension": ".py",
   "mimetype": "text/x-python",
   "name": "python",
   "nbconvert_exporter": "python",
   "pygments_lexer": "ipython3",
   "version": "3.8.8"
  }
 },
 "nbformat": 4,
 "nbformat_minor": 5
}
