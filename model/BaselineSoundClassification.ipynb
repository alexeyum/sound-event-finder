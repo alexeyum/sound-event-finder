{
  "cells": [
    {
      "cell_type": "markdown",
      "metadata": {
        "id": "OMZrXkD2nk9T"
      },
      "source": [
        "# Installs, data, imports"
      ]
    },
    {
      "cell_type": "code",
      "execution_count": null,
      "metadata": {
        "colab": {
          "base_uri": "https://localhost:8080/"
        },
        "id": "40mM57FykUPy",
        "outputId": "cb6f6878-c1d8-4874-bfc1-f71732e1a535"
      },
      "outputs": [
        {
          "name": "stdout",
          "output_type": "stream",
          "text": [
            "Collecting datasets\n",
            "  Downloading datasets-2.16.1-py3-none-any.whl (507 kB)\n",
            "\u001b[2K     \u001b[90m━━━━━━━━━━━━━━━━━━━━━━━━━━━━━━━━━━━━━━━━\u001b[0m \u001b[32m507.1/507.1 kB\u001b[0m \u001b[31m8.3 MB/s\u001b[0m eta \u001b[36m0:00:00\u001b[0m\n",
            "\u001b[?25hRequirement already satisfied: filelock in /usr/local/lib/python3.10/dist-packages (from datasets) (3.13.1)\n",
            "Requirement already satisfied: numpy>=1.17 in /usr/local/lib/python3.10/dist-packages (from datasets) (1.23.5)\n",
            "Requirement already satisfied: pyarrow>=8.0.0 in /usr/local/lib/python3.10/dist-packages (from datasets) (10.0.1)\n",
            "Requirement already satisfied: pyarrow-hotfix in /usr/local/lib/python3.10/dist-packages (from datasets) (0.6)\n",
            "Collecting dill<0.3.8,>=0.3.0 (from datasets)\n",
            "  Downloading dill-0.3.7-py3-none-any.whl (115 kB)\n",
            "\u001b[2K     \u001b[90m━━━━━━━━━━━━━━━━━━━━━━━━━━━━━━━━━━━━━━━━\u001b[0m \u001b[32m115.3/115.3 kB\u001b[0m \u001b[31m10.0 MB/s\u001b[0m eta \u001b[36m0:00:00\u001b[0m\n",
            "\u001b[?25hRequirement already satisfied: pandas in /usr/local/lib/python3.10/dist-packages (from datasets) (1.5.3)\n",
            "Requirement already satisfied: requests>=2.19.0 in /usr/local/lib/python3.10/dist-packages (from datasets) (2.31.0)\n",
            "Requirement already satisfied: tqdm>=4.62.1 in /usr/local/lib/python3.10/dist-packages (from datasets) (4.66.1)\n",
            "Requirement already satisfied: xxhash in /usr/local/lib/python3.10/dist-packages (from datasets) (3.4.1)\n",
            "Collecting multiprocess (from datasets)\n",
            "  Downloading multiprocess-0.70.15-py310-none-any.whl (134 kB)\n",
            "\u001b[2K     \u001b[90m━━━━━━━━━━━━━━━━━━━━━━━━━━━━━━━━━━━━━━━━\u001b[0m \u001b[32m134.8/134.8 kB\u001b[0m \u001b[31m9.3 MB/s\u001b[0m eta \u001b[36m0:00:00\u001b[0m\n",
            "\u001b[?25hRequirement already satisfied: fsspec[http]<=2023.10.0,>=2023.1.0 in /usr/local/lib/python3.10/dist-packages (from datasets) (2023.6.0)\n",
            "Requirement already satisfied: aiohttp in /usr/local/lib/python3.10/dist-packages (from datasets) (3.9.1)\n",
            "Requirement already satisfied: huggingface-hub>=0.19.4 in /usr/local/lib/python3.10/dist-packages (from datasets) (0.20.3)\n",
            "Requirement already satisfied: packaging in /usr/local/lib/python3.10/dist-packages (from datasets) (23.2)\n",
            "Requirement already satisfied: pyyaml>=5.1 in /usr/local/lib/python3.10/dist-packages (from datasets) (6.0.1)\n",
            "Requirement already satisfied: attrs>=17.3.0 in /usr/local/lib/python3.10/dist-packages (from aiohttp->datasets) (23.2.0)\n",
            "Requirement already satisfied: multidict<7.0,>=4.5 in /usr/local/lib/python3.10/dist-packages (from aiohttp->datasets) (6.0.4)\n",
            "Requirement already satisfied: yarl<2.0,>=1.0 in /usr/local/lib/python3.10/dist-packages (from aiohttp->datasets) (1.9.4)\n",
            "Requirement already satisfied: frozenlist>=1.1.1 in /usr/local/lib/python3.10/dist-packages (from aiohttp->datasets) (1.4.1)\n",
            "Requirement already satisfied: aiosignal>=1.1.2 in /usr/local/lib/python3.10/dist-packages (from aiohttp->datasets) (1.3.1)\n",
            "Requirement already satisfied: async-timeout<5.0,>=4.0 in /usr/local/lib/python3.10/dist-packages (from aiohttp->datasets) (4.0.3)\n",
            "Requirement already satisfied: typing-extensions>=3.7.4.3 in /usr/local/lib/python3.10/dist-packages (from huggingface-hub>=0.19.4->datasets) (4.5.0)\n",
            "Requirement already satisfied: charset-normalizer<4,>=2 in /usr/local/lib/python3.10/dist-packages (from requests>=2.19.0->datasets) (3.3.2)\n",
            "Requirement already satisfied: idna<4,>=2.5 in /usr/local/lib/python3.10/dist-packages (from requests>=2.19.0->datasets) (3.6)\n",
            "Requirement already satisfied: urllib3<3,>=1.21.1 in /usr/local/lib/python3.10/dist-packages (from requests>=2.19.0->datasets) (2.0.7)\n",
            "Requirement already satisfied: certifi>=2017.4.17 in /usr/local/lib/python3.10/dist-packages (from requests>=2.19.0->datasets) (2023.11.17)\n",
            "Requirement already satisfied: python-dateutil>=2.8.1 in /usr/local/lib/python3.10/dist-packages (from pandas->datasets) (2.8.2)\n",
            "Requirement already satisfied: pytz>=2020.1 in /usr/local/lib/python3.10/dist-packages (from pandas->datasets) (2023.3.post1)\n",
            "Requirement already satisfied: six>=1.5 in /usr/local/lib/python3.10/dist-packages (from python-dateutil>=2.8.1->pandas->datasets) (1.16.0)\n",
            "Installing collected packages: dill, multiprocess, datasets\n",
            "Successfully installed datasets-2.16.1 dill-0.3.7 multiprocess-0.70.15\n"
          ]
        }
      ],
      "source": [
        "!pip install datasets"
      ]
    },
    {
      "cell_type": "code",
      "execution_count": null,
      "metadata": {
        "id": "7mLhVApYkvNT"
      },
      "outputs": [],
      "source": [
        "from functools import partial\n",
        "import os.path\n",
        "import os\n",
        "import shutil\n",
        "import json\n",
        "\n",
        "from matplotlib import pyplot as plt\n",
        "import pandas as pd\n",
        "import numpy as np\n",
        "\n",
        "from tqdm import tqdm\n",
        "\n",
        "import torch\n",
        "import torch.nn as nn\n",
        "import torch.nn.functional as F\n",
        "from torch import optim\n",
        "from torch.utils.data import DataLoader\n",
        "\n",
        "from datasets import load_dataset\n",
        "\n",
        "from fastai.data.core import DataLoaders\n",
        "from fastai.optimizer import OptimWrapper\n",
        "from fastai.learner import Learner\n",
        "import fastai.callback.schedule\n",
        "from fastai.callback.all import SaveModelCallback\n",
        "from fastai.metrics import accuracy"
      ]
    },
    {
      "cell_type": "code",
      "execution_count": null,
      "metadata": {
        "colab": {
          "base_uri": "https://localhost:8080/"
        },
        "id": "ZzQg9f-vlAjt",
        "outputId": "efa30bc3-ca7c-4289-c642-a6bafbee6043"
      },
      "outputs": [
        {
          "name": "stderr",
          "output_type": "stream",
          "text": [
            "/usr/local/lib/python3.10/dist-packages/huggingface_hub/utils/_token.py:88: UserWarning: \n",
            "The secret `HF_TOKEN` does not exist in your Colab secrets.\n",
            "To authenticate with the Hugging Face Hub, create a token in your settings tab (https://huggingface.co/settings/tokens), set it as secret in your Google Colab and restart your session.\n",
            "You will be able to reuse this secret in all of your notebooks.\n",
            "Please note that authentication is recommended but still optional to access public models or datasets.\n",
            "  warnings.warn(\n"
          ]
        },
        {
          "data": {
            "application/vnd.jupyter.widget-view+json": {
              "model_id": "fd1a7af5e5524a8bb90c9de8cac90fb1",
              "version_major": 2,
              "version_minor": 0
            },
            "text/plain": [
              "Downloading readme:   0%|          | 0.00/5.66k [00:00<?, ?B/s]"
            ]
          },
          "metadata": {},
          "output_type": "display_data"
        },
        {
          "data": {
            "application/vnd.jupyter.widget-view+json": {
              "model_id": "234ffb46e9d14500bdb47ded2f7efa3d",
              "version_major": 2,
              "version_minor": 0
            },
            "text/plain": [
              "Downloading data:   0%|          | 0.00/434M [00:00<?, ?B/s]"
            ]
          },
          "metadata": {},
          "output_type": "display_data"
        },
        {
          "data": {
            "application/vnd.jupyter.widget-view+json": {
              "model_id": "55f8fbe7a4264a349a2522b6544f9b69",
              "version_major": 2,
              "version_minor": 0
            },
            "text/plain": [
              "Downloading data:   0%|          | 0.00/472M [00:00<?, ?B/s]"
            ]
          },
          "metadata": {},
          "output_type": "display_data"
        },
        {
          "data": {
            "application/vnd.jupyter.widget-view+json": {
              "model_id": "875f73237ae94ca691586de4b3b1bb9a",
              "version_major": 2,
              "version_minor": 0
            },
            "text/plain": [
              "Downloading data:   0%|          | 0.00/384M [00:00<?, ?B/s]"
            ]
          },
          "metadata": {},
          "output_type": "display_data"
        },
        {
          "data": {
            "application/vnd.jupyter.widget-view+json": {
              "model_id": "78afe1d68ec04604b5a7d39c5c50f824",
              "version_major": 2,
              "version_minor": 0
            },
            "text/plain": [
              "Downloading data:   0%|          | 0.00/447M [00:00<?, ?B/s]"
            ]
          },
          "metadata": {},
          "output_type": "display_data"
        },
        {
          "data": {
            "application/vnd.jupyter.widget-view+json": {
              "model_id": "e3c9b51da69d4291bb3dfd0806314f12",
              "version_major": 2,
              "version_minor": 0
            },
            "text/plain": [
              "Downloading data:   0%|          | 0.00/441M [00:00<?, ?B/s]"
            ]
          },
          "metadata": {},
          "output_type": "display_data"
        },
        {
          "data": {
            "application/vnd.jupyter.widget-view+json": {
              "model_id": "e46b74243e7540798b7de69fc13a0d5e",
              "version_major": 2,
              "version_minor": 0
            },
            "text/plain": [
              "Downloading data:   0%|          | 0.00/591M [00:00<?, ?B/s]"
            ]
          },
          "metadata": {},
          "output_type": "display_data"
        },
        {
          "data": {
            "application/vnd.jupyter.widget-view+json": {
              "model_id": "aa85c15673e140798b42f7e61348a863",
              "version_major": 2,
              "version_minor": 0
            },
            "text/plain": [
              "Downloading data:   0%|          | 0.00/496M [00:00<?, ?B/s]"
            ]
          },
          "metadata": {},
          "output_type": "display_data"
        },
        {
          "data": {
            "application/vnd.jupyter.widget-view+json": {
              "model_id": "83ef86c421ca47f19c84eb54e436bad0",
              "version_major": 2,
              "version_minor": 0
            },
            "text/plain": [
              "Downloading data:   0%|          | 0.00/588M [00:00<?, ?B/s]"
            ]
          },
          "metadata": {},
          "output_type": "display_data"
        },
        {
          "data": {
            "application/vnd.jupyter.widget-view+json": {
              "model_id": "2e5f11a68bf74edca55522f799d09038",
              "version_major": 2,
              "version_minor": 0
            },
            "text/plain": [
              "Downloading data:   0%|          | 0.00/493M [00:00<?, ?B/s]"
            ]
          },
          "metadata": {},
          "output_type": "display_data"
        },
        {
          "data": {
            "application/vnd.jupyter.widget-view+json": {
              "model_id": "236f539907c043fba4a5ec66e3653ccc",
              "version_major": 2,
              "version_minor": 0
            },
            "text/plain": [
              "Downloading data:   0%|          | 0.00/549M [00:00<?, ?B/s]"
            ]
          },
          "metadata": {},
          "output_type": "display_data"
        },
        {
          "data": {
            "application/vnd.jupyter.widget-view+json": {
              "model_id": "5dd3cd3ce5194dec8af1173326f39451",
              "version_major": 2,
              "version_minor": 0
            },
            "text/plain": [
              "Downloading data:   0%|          | 0.00/353M [00:00<?, ?B/s]"
            ]
          },
          "metadata": {},
          "output_type": "display_data"
        },
        {
          "data": {
            "application/vnd.jupyter.widget-view+json": {
              "model_id": "73647687119041cdb0f558a099b45fef",
              "version_major": 2,
              "version_minor": 0
            },
            "text/plain": [
              "Downloading data:   0%|          | 0.00/316M [00:00<?, ?B/s]"
            ]
          },
          "metadata": {},
          "output_type": "display_data"
        },
        {
          "data": {
            "application/vnd.jupyter.widget-view+json": {
              "model_id": "55e5009f77dd4ce7a5d3906f73d43e98",
              "version_major": 2,
              "version_minor": 0
            },
            "text/plain": [
              "Downloading data:   0%|          | 0.00/372M [00:00<?, ?B/s]"
            ]
          },
          "metadata": {},
          "output_type": "display_data"
        },
        {
          "data": {
            "application/vnd.jupyter.widget-view+json": {
              "model_id": "715fb380cb7e42a88f2823c98ce6b704",
              "version_major": 2,
              "version_minor": 0
            },
            "text/plain": [
              "Downloading data:   0%|          | 0.00/348M [00:00<?, ?B/s]"
            ]
          },
          "metadata": {},
          "output_type": "display_data"
        },
        {
          "data": {
            "application/vnd.jupyter.widget-view+json": {
              "model_id": "02251cfc72b9438ca73dbfefeae7056e",
              "version_major": 2,
              "version_minor": 0
            },
            "text/plain": [
              "Downloading data:   0%|          | 0.00/381M [00:00<?, ?B/s]"
            ]
          },
          "metadata": {},
          "output_type": "display_data"
        },
        {
          "data": {
            "application/vnd.jupyter.widget-view+json": {
              "model_id": "0d758d35e35d43d3b505024ecb89c873",
              "version_major": 2,
              "version_minor": 0
            },
            "text/plain": [
              "Downloading data:   0%|          | 0.00/335M [00:00<?, ?B/s]"
            ]
          },
          "metadata": {},
          "output_type": "display_data"
        },
        {
          "data": {
            "application/vnd.jupyter.widget-view+json": {
              "model_id": "0535ba831c7a4678b3a2c0d4fb18575e",
              "version_major": 2,
              "version_minor": 0
            },
            "text/plain": [
              "Generating train split:   0%|          | 0/8732 [00:00<?, ? examples/s]"
            ]
          },
          "metadata": {},
          "output_type": "display_data"
        }
      ],
      "source": [
        "dataset = load_dataset(\"danavery/urbansound8K\")"
      ]
    },
    {
      "cell_type": "code",
      "execution_count": null,
      "metadata": {
        "colab": {
          "base_uri": "https://localhost:8080/"
        },
        "id": "peEiAdRhlFr1",
        "outputId": "a37c22e6-5220-47c2-ed7e-e52d0c4b3c15"
      },
      "outputs": [
        {
          "data": {
            "text/plain": [
              "DatasetDict({\n",
              "    train: Dataset({\n",
              "        features: ['audio', 'slice_file_name', 'fsID', 'start', 'end', 'salience', 'fold', 'classID', 'class'],\n",
              "        num_rows: 8732\n",
              "    })\n",
              "})"
            ]
          },
          "execution_count": 4,
          "metadata": {},
          "output_type": "execute_result"
        }
      ],
      "source": [
        "dataset"
      ]
    },
    {
      "cell_type": "code",
      "execution_count": null,
      "metadata": {
        "colab": {
          "base_uri": "https://localhost:8080/"
        },
        "id": "LpM6-e219PM7",
        "outputId": "9f1ec6f0-08c5-493a-d3d3-1c3e0a68b57d"
      },
      "outputs": [
        {
          "name": "stdout",
          "output_type": "stream",
          "text": [
            "cuda\n"
          ]
        }
      ],
      "source": [
        "DEVICE = torch.device(\"cuda\" if torch.cuda.is_available() else \"cpu\")\n",
        "print(DEVICE)"
      ]
    },
    {
      "cell_type": "code",
      "execution_count": null,
      "metadata": {
        "id": "UnN4A4kgxwcW"
      },
      "outputs": [],
      "source": [
        "plt.style.use('ggplot')"
      ]
    },
    {
      "cell_type": "markdown",
      "metadata": {
        "id": "9uAxQfaonySM"
      },
      "source": [
        "# Data analysis and preparation"
      ]
    },
    {
      "cell_type": "code",
      "execution_count": null,
      "metadata": {
        "colab": {
          "base_uri": "https://localhost:8080/"
        },
        "id": "NbFo4S57m24U",
        "outputId": "8effa70f-74c2-4c8f-f85d-960e56036ce1"
      },
      "outputs": [
        {
          "data": {
            "text/plain": [
              "{'path': '100263-2-0-126.wav',\n",
              " 'array': array([ 2.59399414e-04,  1.52587891e-05, -2.13623047e-04, ...,\n",
              "         3.05175781e-04,  4.73022461e-04, -9.46044922e-04]),\n",
              " 'sampling_rate': 44100}"
            ]
          },
          "execution_count": 15,
          "metadata": {},
          "output_type": "execute_result"
        }
      ],
      "source": [
        "dataset['train'][3]['audio']"
      ]
    },
    {
      "cell_type": "code",
      "execution_count": null,
      "metadata": {
        "id": "zvs4xEpvG9IL"
      },
      "outputs": [],
      "source": [
        "# file_lengths = []\n",
        "# for i in tqdm(range(len(dataset['train']))):\n",
        "#     file_lengths.append(dataset['train'][i]['audio']['array'].size)"
      ]
    },
    {
      "cell_type": "code",
      "execution_count": null,
      "metadata": {
        "id": "N3Ea-owrHWzW"
      },
      "outputs": [],
      "source": [
        "# pd.Series(file_lengths).value_counts()"
      ]
    },
    {
      "cell_type": "code",
      "execution_count": null,
      "metadata": {
        "id": "rza6WROyH01p"
      },
      "outputs": [],
      "source": [
        "# pd.Series(file_lengths).hist()"
      ]
    },
    {
      "cell_type": "code",
      "execution_count": null,
      "metadata": {
        "id": "bZF5aS0F9xMQ"
      },
      "outputs": [],
      "source": [
        "BATCH_SIZE = 16\n",
        "MAX_LENGTH = 384000"
      ]
    },
    {
      "cell_type": "code",
      "execution_count": null,
      "metadata": {
        "colab": {
          "base_uri": "https://localhost:8080/"
        },
        "id": "hUTVv-wsm5Rd",
        "outputId": "b56f816d-2473-488a-b2d1-cc1dd9952df0"
      },
      "outputs": [
        {
          "name": "stdout",
          "output_type": "stream",
          "text": [
            "Train size 7878\n",
            "One-batch size 16\n",
            "Test size 837\n"
          ]
        }
      ],
      "source": [
        "def collate_fn(batch):\n",
        "    tensors, targets = [], []\n",
        "\n",
        "    for element in batch:\n",
        "        waveform = element['audio']['array']\n",
        "        pad_size = [0, MAX_LENGTH - waveform.shape[0]]\n",
        "        wf_padded = F.pad(waveform, pad=pad_size, mode='constant', value=0.0)\n",
        "        tensors += [torch.unsqueeze(wf_padded, 0)]\n",
        "\n",
        "        targets += [element['classID']]\n",
        "\n",
        "    return torch.stack(tensors), torch.stack(targets)\n",
        "\n",
        "def make_dataloaders(dataset, batch_size, test_fold=10):\n",
        "    dataset_trimmed = dataset['train'].filter(lambda sample: sample['audio']['array'].size <= MAX_LENGTH)\n",
        "\n",
        "    train_dataset = dataset_trimmed.filter(lambda sample: sample['fold'] != test_fold)\n",
        "    one_batch_dataset = train_dataset.select(range(batch_size))\n",
        "    test_dataset = dataset_trimmed.filter(lambda sample: sample['fold'] == test_fold)\n",
        "\n",
        "    print(\"Train size\", len(train_dataset))\n",
        "    print(\"One-batch size\", len(one_batch_dataset))\n",
        "    print(\"Test size\", len(test_dataset))\n",
        "\n",
        "    if DEVICE == \"cuda\":\n",
        "        num_workers = 4\n",
        "        pin_memory = True\n",
        "    else:\n",
        "        num_workers = 0\n",
        "        pin_memory = False\n",
        "\n",
        "    train_loader = DataLoader(\n",
        "        train_dataset.with_format(\"torch\", device=DEVICE),\n",
        "        collate_fn=collate_fn,\n",
        "        batch_size=batch_size,\n",
        "        shuffle=True,\n",
        "        num_workers=num_workers,\n",
        "        pin_memory=pin_memory)\n",
        "\n",
        "    onebatch_loader = DataLoader(\n",
        "        one_batch_dataset.with_format(\"torch\", device=DEVICE),\n",
        "        collate_fn=collate_fn,\n",
        "        batch_size=batch_size,\n",
        "        shuffle=True,\n",
        "        num_workers=num_workers,\n",
        "        pin_memory=pin_memory)\n",
        "\n",
        "    test_loader = DataLoader(\n",
        "        test_dataset.with_format(\"torch\", device=DEVICE),\n",
        "        collate_fn=collate_fn,\n",
        "        batch_size=batch_size,\n",
        "        shuffle=False,\n",
        "        drop_last=False,\n",
        "        num_workers=num_workers,\n",
        "        pin_memory=pin_memory)\n",
        "\n",
        "    return train_loader, onebatch_loader, test_loader\n",
        "\n",
        "train_loader, onebatch_loader, test_loader = make_dataloaders(dataset, BATCH_SIZE)\n",
        "onebatch_dls = DataLoaders(onebatch_loader, onebatch_loader, device=DEVICE)\n",
        "fulltrain_dls = DataLoaders(train_loader, test_loader, device=DEVICE)"
      ]
    },
    {
      "cell_type": "code",
      "execution_count": null,
      "metadata": {
        "colab": {
          "base_uri": "https://localhost:8080/"
        },
        "id": "5ySgBTp992Dg",
        "outputId": "2de5db6f-4d84-454e-8e9c-87c076e00dd2"
      },
      "outputs": [
        {
          "name": "stdout",
          "output_type": "stream",
          "text": [
            "torch.Size([16, 1, 384000])\n",
            "torch.Size([16])\n"
          ]
        }
      ],
      "source": [
        "for waveform, target in train_loader:\n",
        "    print(waveform.shape)\n",
        "    print(target.shape)\n",
        "    break"
      ]
    },
    {
      "cell_type": "markdown",
      "metadata": {
        "id": "VNQ1cTjHMknR"
      },
      "source": [
        "# Model"
      ]
    },
    {
      "cell_type": "code",
      "execution_count": null,
      "metadata": {
        "id": "VRrpP5ANk-1V"
      },
      "outputs": [],
      "source": [
        "def count_parameters(model):\n",
        "    return sum(p.numel() for p in model.parameters() if p.requires_grad)"
      ]
    },
    {
      "cell_type": "markdown",
      "metadata": {
        "id": "bsH1KqjulC0x"
      },
      "source": [
        "\n",
        "\n",
        "### Baseline (conv)"
      ]
    },
    {
      "cell_type": "code",
      "execution_count": null,
      "metadata": {
        "id": "bqv9qho_Il70"
      },
      "outputs": [],
      "source": [
        "class ClassifierBaseline(nn.Module):\n",
        "    def __init__(self, input_channels, output_size):\n",
        "        super().__init__()\n",
        "\n",
        "        start_channels = 4\n",
        "        main_channels = 16\n",
        "        features_len = 16\n",
        "\n",
        "        self.features = nn.Sequential(\n",
        "            nn.Conv1d(input_channels, start_channels, kernel_size=80, stride=64, bias=False),\n",
        "            nn.BatchNorm1d(start_channels),\n",
        "            nn.ReLU(),\n",
        "            nn.Conv1d(start_channels, main_channels, kernel_size=3, stride=4, bias=False),\n",
        "            nn.BatchNorm1d(main_channels),\n",
        "            nn.ReLU(),\n",
        "            nn.Conv1d(main_channels, main_channels, kernel_size=3, stride=4, bias=False),\n",
        "            nn.BatchNorm1d(main_channels),\n",
        "            nn.ReLU(),\n",
        "            nn.AdaptiveMaxPool1d(features_len))\n",
        "\n",
        "        self.classifier = nn.Linear(main_channels * features_len, output_size)\n",
        "\n",
        "\n",
        "    def forward(self, x):\n",
        "        features = self.features(x)\n",
        "        logits = self.classifier(features.reshape(features.shape[0], -1))\n",
        "        return F.log_softmax(logits, dim=-1)"
      ]
    },
    {
      "cell_type": "markdown",
      "metadata": {
        "id": "dv_sTbR4qily"
      },
      "source": [
        "### Audio ResNet-style"
      ]
    },
    {
      "cell_type": "code",
      "execution_count": null,
      "metadata": {
        "id": "bXCAYr3Oqp6A"
      },
      "outputs": [],
      "source": [
        "class ResidualConv1dBlock(nn.Module):\n",
        "    def __init__(self, in_channels, out_channels, stride=1):\n",
        "        super().__init__()\n",
        "        self.layers = nn.Sequential(\n",
        "            nn.Conv1d(in_channels, out_channels, kernel_size=3,\n",
        "                      stride=stride, bias=False, padding=1),\n",
        "            nn.BatchNorm1d(out_channels),\n",
        "            nn.ReLU(),\n",
        "            nn.Conv1d(out_channels, out_channels,\n",
        "                      kernel_size=3, bias=False, padding=1),\n",
        "            nn.BatchNorm1d(out_channels),\n",
        "        )\n",
        "\n",
        "        if in_channels != out_channels or stride != 1:\n",
        "            self.shortcut = nn.Sequential(\n",
        "                nn.Conv1d(in_channels, out_channels, kernel_size=1,\n",
        "                          stride=stride, bias=False),\n",
        "                nn.BatchNorm1d(out_channels),\n",
        "            )\n",
        "        else:\n",
        "            self.shortcut = nn.Identity()\n",
        "\n",
        "\n",
        "    def forward(self, x):\n",
        "        return F.relu(self.layers(x) + self.shortcut(x))\n",
        "\n",
        "\n",
        "class BottleneckConv1dBlock(nn.Module):\n",
        "    def __init__(self, in_channels, out_channels, bottleneck_channels, stride=1):\n",
        "        super().__init__()\n",
        "        self.layers = nn.Sequential(\n",
        "            nn.Conv1d(in_channels, bottleneck_channels, kernel_size=1, bias=False),\n",
        "            nn.BatchNorm1d(bottleneck_channels),\n",
        "            nn.ReLU(),\n",
        "            nn.Conv1d(bottleneck_channels, bottleneck_channels, kernel_size=3,\n",
        "                      stride=stride, bias=False, padding=1),\n",
        "            nn.BatchNorm1d(bottleneck_channels),\n",
        "            nn.ReLU(),\n",
        "            nn.Conv1d(bottleneck_channels, out_channels, kernel_size=1, bias=False),\n",
        "            nn.BatchNorm1d(out_channels),\n",
        "        )\n",
        "\n",
        "        if in_channels != out_channels or stride != 1:\n",
        "            self.shortcut = nn.Sequential(\n",
        "                nn.Conv1d(in_channels, out_channels, kernel_size=1,\n",
        "                          stride=stride, bias=False),\n",
        "                nn.BatchNorm1d(out_channels),\n",
        "            )\n",
        "        else:\n",
        "            self.shortcut = nn.Identity()\n",
        "\n",
        "    def forward(self, x):\n",
        "        return F.relu(self.layers(x) + self.shortcut(x))"
      ]
    },
    {
      "cell_type": "code",
      "execution_count": null,
      "metadata": {
        "id": "YhhaLqdttMxq"
      },
      "outputs": [],
      "source": [
        "class AudioResNet(nn.Module):\n",
        "    def __init__(self, input_channels, output_size, layers_args):\n",
        "        super().__init__()\n",
        "\n",
        "        hidden, kernel, stride = layers_args[0]\n",
        "        layers = [\n",
        "            nn.Conv1d(input_channels, hidden, kernel_size=kernel, stride=stride, bias=False),\n",
        "            nn.BatchNorm1d(hidden),\n",
        "            nn.ReLU(),\n",
        "        ]\n",
        "        for args in layers_args[1:-1]:\n",
        "            layers.append(ResidualConv1dBlock(*args))\n",
        "\n",
        "        hidden, pool = layers_args[-1]\n",
        "        layers.append(nn.AdaptiveMaxPool1d(pool))\n",
        "\n",
        "        self.features = nn.Sequential(*layers)\n",
        "\n",
        "        self.classifier = nn.Linear(hidden * pool, output_size)\n",
        "\n",
        "    def forward(self, x):\n",
        "        features = self.features(x)\n",
        "        logits = self.classifier(features.reshape(features.shape[0], -1))\n",
        "        return F.log_softmax(logits, dim=-1)"
      ]
    },
    {
      "cell_type": "markdown",
      "metadata": {
        "id": "UlSzjljxlFUJ"
      },
      "source": [
        "### Draft"
      ]
    },
    {
      "cell_type": "code",
      "execution_count": null,
      "metadata": {
        "id": "McKanCxylH_f"
      },
      "outputs": [],
      "source": [
        "class DownsampleBlock(nn.Module):\n",
        "    pass\n",
        "\n",
        "class DilationBlock(nn.Module):\n",
        "    pass"
      ]
    },
    {
      "cell_type": "markdown",
      "metadata": {
        "id": "iMQgzwtZ-FBU"
      },
      "source": [
        "# Test/debug"
      ]
    },
    {
      "cell_type": "code",
      "execution_count": null,
      "metadata": {
        "colab": {
          "base_uri": "https://localhost:8080/"
        },
        "id": "EV9PCAeY-H7v",
        "outputId": "4dfca7f3-2e5e-4dca-a227-c0f3cdeb8017"
      },
      "outputs": [
        {
          "name": "stdout",
          "output_type": "stream",
          "text": [
            "AudioResNet(\n",
            "  (features): Sequential(\n",
            "    (0): Conv1d(1, 16, kernel_size=(17,), stride=(16,), bias=False)\n",
            "    (1): BatchNorm1d(16, eps=1e-05, momentum=0.1, affine=True, track_running_stats=True)\n",
            "    (2): ReLU()\n",
            "    (3): ResidualConv1dBlock(\n",
            "      (layers): Sequential(\n",
            "        (0): Conv1d(16, 32, kernel_size=(3,), stride=(2,), padding=(1,), bias=False)\n",
            "        (1): BatchNorm1d(32, eps=1e-05, momentum=0.1, affine=True, track_running_stats=True)\n",
            "        (2): ReLU()\n",
            "        (3): Conv1d(32, 32, kernel_size=(3,), stride=(1,), padding=(1,), bias=False)\n",
            "        (4): BatchNorm1d(32, eps=1e-05, momentum=0.1, affine=True, track_running_stats=True)\n",
            "      )\n",
            "      (shortcut): Sequential(\n",
            "        (0): Conv1d(16, 32, kernel_size=(1,), stride=(2,), bias=False)\n",
            "        (1): BatchNorm1d(32, eps=1e-05, momentum=0.1, affine=True, track_running_stats=True)\n",
            "      )\n",
            "    )\n",
            "    (4): ResidualConv1dBlock(\n",
            "      (layers): Sequential(\n",
            "        (0): Conv1d(32, 32, kernel_size=(3,), stride=(2,), padding=(1,), bias=False)\n",
            "        (1): BatchNorm1d(32, eps=1e-05, momentum=0.1, affine=True, track_running_stats=True)\n",
            "        (2): ReLU()\n",
            "        (3): Conv1d(32, 32, kernel_size=(3,), stride=(1,), padding=(1,), bias=False)\n",
            "        (4): BatchNorm1d(32, eps=1e-05, momentum=0.1, affine=True, track_running_stats=True)\n",
            "      )\n",
            "      (shortcut): Sequential(\n",
            "        (0): Conv1d(32, 32, kernel_size=(1,), stride=(2,), bias=False)\n",
            "        (1): BatchNorm1d(32, eps=1e-05, momentum=0.1, affine=True, track_running_stats=True)\n",
            "      )\n",
            "    )\n",
            "    (5): ResidualConv1dBlock(\n",
            "      (layers): Sequential(\n",
            "        (0): Conv1d(32, 32, kernel_size=(3,), stride=(2,), padding=(1,), bias=False)\n",
            "        (1): BatchNorm1d(32, eps=1e-05, momentum=0.1, affine=True, track_running_stats=True)\n",
            "        (2): ReLU()\n",
            "        (3): Conv1d(32, 32, kernel_size=(3,), stride=(1,), padding=(1,), bias=False)\n",
            "        (4): BatchNorm1d(32, eps=1e-05, momentum=0.1, affine=True, track_running_stats=True)\n",
            "      )\n",
            "      (shortcut): Sequential(\n",
            "        (0): Conv1d(32, 32, kernel_size=(1,), stride=(2,), bias=False)\n",
            "        (1): BatchNorm1d(32, eps=1e-05, momentum=0.1, affine=True, track_running_stats=True)\n",
            "      )\n",
            "    )\n",
            "    (6): ResidualConv1dBlock(\n",
            "      (layers): Sequential(\n",
            "        (0): Conv1d(32, 64, kernel_size=(3,), stride=(2,), padding=(1,), bias=False)\n",
            "        (1): BatchNorm1d(64, eps=1e-05, momentum=0.1, affine=True, track_running_stats=True)\n",
            "        (2): ReLU()\n",
            "        (3): Conv1d(64, 64, kernel_size=(3,), stride=(1,), padding=(1,), bias=False)\n",
            "        (4): BatchNorm1d(64, eps=1e-05, momentum=0.1, affine=True, track_running_stats=True)\n",
            "      )\n",
            "      (shortcut): Sequential(\n",
            "        (0): Conv1d(32, 64, kernel_size=(1,), stride=(2,), bias=False)\n",
            "        (1): BatchNorm1d(64, eps=1e-05, momentum=0.1, affine=True, track_running_stats=True)\n",
            "      )\n",
            "    )\n",
            "    (7): ResidualConv1dBlock(\n",
            "      (layers): Sequential(\n",
            "        (0): Conv1d(64, 64, kernel_size=(3,), stride=(2,), padding=(1,), bias=False)\n",
            "        (1): BatchNorm1d(64, eps=1e-05, momentum=0.1, affine=True, track_running_stats=True)\n",
            "        (2): ReLU()\n",
            "        (3): Conv1d(64, 64, kernel_size=(3,), stride=(1,), padding=(1,), bias=False)\n",
            "        (4): BatchNorm1d(64, eps=1e-05, momentum=0.1, affine=True, track_running_stats=True)\n",
            "      )\n",
            "      (shortcut): Sequential(\n",
            "        (0): Conv1d(64, 64, kernel_size=(1,), stride=(2,), bias=False)\n",
            "        (1): BatchNorm1d(64, eps=1e-05, momentum=0.1, affine=True, track_running_stats=True)\n",
            "      )\n",
            "    )\n",
            "    (8): ResidualConv1dBlock(\n",
            "      (layers): Sequential(\n",
            "        (0): Conv1d(64, 64, kernel_size=(3,), stride=(2,), padding=(1,), bias=False)\n",
            "        (1): BatchNorm1d(64, eps=1e-05, momentum=0.1, affine=True, track_running_stats=True)\n",
            "        (2): ReLU()\n",
            "        (3): Conv1d(64, 64, kernel_size=(3,), stride=(1,), padding=(1,), bias=False)\n",
            "        (4): BatchNorm1d(64, eps=1e-05, momentum=0.1, affine=True, track_running_stats=True)\n",
            "      )\n",
            "      (shortcut): Sequential(\n",
            "        (0): Conv1d(64, 64, kernel_size=(1,), stride=(2,), bias=False)\n",
            "        (1): BatchNorm1d(64, eps=1e-05, momentum=0.1, affine=True, track_running_stats=True)\n",
            "      )\n",
            "    )\n",
            "    (9): AdaptiveMaxPool1d(output_size=128)\n",
            "  )\n",
            "  (classifier): Linear(in_features=8192, out_features=10, bias=True)\n",
            ")\n",
            "Number of parameters: 181242\n"
          ]
        }
      ],
      "source": [
        "layers_args = [\n",
        "    [16, 17, 16],    # first conv hidden-kernel-stride\n",
        "    [16, 32, 2],  # residual blocks in-out-stride (ks=3)\n",
        "    [32, 32, 2],\n",
        "    [32, 32, 2],\n",
        "    [32, 64, 2],\n",
        "    [64, 64, 2],\n",
        "    [64, 64, 2],\n",
        "    [64, 128],    # final hidden-pool\n",
        "]\n",
        "model = AudioResNet(input_channels=1, output_size=10, layers_args=layers_args).to(DEVICE)\n",
        "print(model)\n",
        "print(\"Number of parameters:\", count_parameters(model))\n",
        "\n",
        "opt_func = partial(OptimWrapper, opt=optim.Adam)\n",
        "one_batch_learner = Learner(\n",
        "    onebatch_dls, model,\n",
        "    loss_func=F.nll_loss, opt_func=opt_func, metrics=accuracy)"
      ]
    },
    {
      "cell_type": "code",
      "execution_count": null,
      "metadata": {
        "colab": {
          "base_uri": "https://localhost:8080/",
          "height": 1000
        },
        "id": "pzOknq7H-tEC",
        "outputId": "4010b35b-6285-42f2-adc6-8d26a0254df9"
      },
      "outputs": [
        {
          "data": {
            "text/html": [
              "\n",
              "<style>\n",
              "    /* Turns off some styling */\n",
              "    progress {\n",
              "        /* gets rid of default border in Firefox and Opera. */\n",
              "        border: none;\n",
              "        /* Needs to be in here for Safari polyfill so background images work as expected. */\n",
              "        background-size: auto;\n",
              "    }\n",
              "    progress:not([value]), progress:not([value])::-webkit-progress-bar {\n",
              "        background: repeating-linear-gradient(45deg, #7e7e7e, #7e7e7e 10px, #5c5c5c 10px, #5c5c5c 20px);\n",
              "    }\n",
              "    .progress-bar-interrupted, .progress-bar-interrupted::-webkit-progress-bar {\n",
              "        background: #F44336;\n",
              "    }\n",
              "</style>\n"
            ],
            "text/plain": [
              "<IPython.core.display.HTML object>"
            ]
          },
          "metadata": {},
          "output_type": "display_data"
        },
        {
          "data": {
            "text/html": [
              "<table border=\"1\" class=\"dataframe\">\n",
              "  <thead>\n",
              "    <tr style=\"text-align: left;\">\n",
              "      <th>epoch</th>\n",
              "      <th>train_loss</th>\n",
              "      <th>valid_loss</th>\n",
              "      <th>accuracy</th>\n",
              "      <th>time</th>\n",
              "    </tr>\n",
              "  </thead>\n",
              "  <tbody>\n",
              "    <tr>\n",
              "      <td>0</td>\n",
              "      <td>2.648226</td>\n",
              "      <td>2.267190</td>\n",
              "      <td>0.312500</td>\n",
              "      <td>00:01</td>\n",
              "    </tr>\n",
              "    <tr>\n",
              "      <td>1</td>\n",
              "      <td>1.793921</td>\n",
              "      <td>2.186253</td>\n",
              "      <td>0.500000</td>\n",
              "      <td>00:00</td>\n",
              "    </tr>\n",
              "    <tr>\n",
              "      <td>2</td>\n",
              "      <td>1.366126</td>\n",
              "      <td>2.058022</td>\n",
              "      <td>0.500000</td>\n",
              "      <td>00:00</td>\n",
              "    </tr>\n",
              "    <tr>\n",
              "      <td>3</td>\n",
              "      <td>1.076947</td>\n",
              "      <td>1.879357</td>\n",
              "      <td>0.500000</td>\n",
              "      <td>00:00</td>\n",
              "    </tr>\n",
              "    <tr>\n",
              "      <td>4</td>\n",
              "      <td>0.864871</td>\n",
              "      <td>1.665274</td>\n",
              "      <td>0.500000</td>\n",
              "      <td>00:00</td>\n",
              "    </tr>\n",
              "    <tr>\n",
              "      <td>5</td>\n",
              "      <td>0.714869</td>\n",
              "      <td>1.480023</td>\n",
              "      <td>0.500000</td>\n",
              "      <td>00:00</td>\n",
              "    </tr>\n",
              "    <tr>\n",
              "      <td>6</td>\n",
              "      <td>0.606993</td>\n",
              "      <td>1.485527</td>\n",
              "      <td>0.500000</td>\n",
              "      <td>00:00</td>\n",
              "    </tr>\n",
              "    <tr>\n",
              "      <td>7</td>\n",
              "      <td>0.526306</td>\n",
              "      <td>1.835455</td>\n",
              "      <td>0.500000</td>\n",
              "      <td>00:00</td>\n",
              "    </tr>\n",
              "    <tr>\n",
              "      <td>8</td>\n",
              "      <td>0.463472</td>\n",
              "      <td>2.510386</td>\n",
              "      <td>0.500000</td>\n",
              "      <td>00:00</td>\n",
              "    </tr>\n",
              "    <tr>\n",
              "      <td>9</td>\n",
              "      <td>0.413032</td>\n",
              "      <td>3.428257</td>\n",
              "      <td>0.500000</td>\n",
              "      <td>00:00</td>\n",
              "    </tr>\n",
              "    <tr>\n",
              "      <td>10</td>\n",
              "      <td>0.371689</td>\n",
              "      <td>4.529380</td>\n",
              "      <td>0.500000</td>\n",
              "      <td>00:00</td>\n",
              "    </tr>\n",
              "    <tr>\n",
              "      <td>11</td>\n",
              "      <td>0.337235</td>\n",
              "      <td>5.797128</td>\n",
              "      <td>0.500000</td>\n",
              "      <td>00:00</td>\n",
              "    </tr>\n",
              "    <tr>\n",
              "      <td>12</td>\n",
              "      <td>0.308097</td>\n",
              "      <td>7.206338</td>\n",
              "      <td>0.500000</td>\n",
              "      <td>00:00</td>\n",
              "    </tr>\n",
              "    <tr>\n",
              "      <td>13</td>\n",
              "      <td>0.283122</td>\n",
              "      <td>8.750832</td>\n",
              "      <td>0.500000</td>\n",
              "      <td>00:00</td>\n",
              "    </tr>\n",
              "    <tr>\n",
              "      <td>14</td>\n",
              "      <td>0.261478</td>\n",
              "      <td>10.397640</td>\n",
              "      <td>0.500000</td>\n",
              "      <td>00:00</td>\n",
              "    </tr>\n",
              "    <tr>\n",
              "      <td>15</td>\n",
              "      <td>0.242550</td>\n",
              "      <td>12.093643</td>\n",
              "      <td>0.500000</td>\n",
              "      <td>00:00</td>\n",
              "    </tr>\n",
              "    <tr>\n",
              "      <td>16</td>\n",
              "      <td>0.225866</td>\n",
              "      <td>13.772703</td>\n",
              "      <td>0.500000</td>\n",
              "      <td>00:00</td>\n",
              "    </tr>\n",
              "    <tr>\n",
              "      <td>17</td>\n",
              "      <td>0.211055</td>\n",
              "      <td>15.331475</td>\n",
              "      <td>0.500000</td>\n",
              "      <td>00:00</td>\n",
              "    </tr>\n",
              "    <tr>\n",
              "      <td>18</td>\n",
              "      <td>0.197821</td>\n",
              "      <td>16.795551</td>\n",
              "      <td>0.500000</td>\n",
              "      <td>00:00</td>\n",
              "    </tr>\n",
              "    <tr>\n",
              "      <td>19</td>\n",
              "      <td>0.185923</td>\n",
              "      <td>18.105427</td>\n",
              "      <td>0.500000</td>\n",
              "      <td>00:00</td>\n",
              "    </tr>\n",
              "    <tr>\n",
              "      <td>20</td>\n",
              "      <td>0.175170</td>\n",
              "      <td>19.292212</td>\n",
              "      <td>0.500000</td>\n",
              "      <td>00:00</td>\n",
              "    </tr>\n",
              "    <tr>\n",
              "      <td>21</td>\n",
              "      <td>0.165408</td>\n",
              "      <td>20.394619</td>\n",
              "      <td>0.500000</td>\n",
              "      <td>00:00</td>\n",
              "    </tr>\n",
              "    <tr>\n",
              "      <td>22</td>\n",
              "      <td>0.156509</td>\n",
              "      <td>21.402674</td>\n",
              "      <td>0.500000</td>\n",
              "      <td>00:00</td>\n",
              "    </tr>\n",
              "    <tr>\n",
              "      <td>23</td>\n",
              "      <td>0.148363</td>\n",
              "      <td>22.271362</td>\n",
              "      <td>0.500000</td>\n",
              "      <td>00:00</td>\n",
              "    </tr>\n",
              "    <tr>\n",
              "      <td>24</td>\n",
              "      <td>0.140881</td>\n",
              "      <td>22.977098</td>\n",
              "      <td>0.500000</td>\n",
              "      <td>00:00</td>\n",
              "    </tr>\n",
              "    <tr>\n",
              "      <td>25</td>\n",
              "      <td>0.133986</td>\n",
              "      <td>23.559191</td>\n",
              "      <td>0.500000</td>\n",
              "      <td>00:00</td>\n",
              "    </tr>\n",
              "    <tr>\n",
              "      <td>26</td>\n",
              "      <td>0.127612</td>\n",
              "      <td>24.051085</td>\n",
              "      <td>0.500000</td>\n",
              "      <td>00:00</td>\n",
              "    </tr>\n",
              "    <tr>\n",
              "      <td>27</td>\n",
              "      <td>0.121704</td>\n",
              "      <td>24.475813</td>\n",
              "      <td>0.500000</td>\n",
              "      <td>00:00</td>\n",
              "    </tr>\n",
              "    <tr>\n",
              "      <td>28</td>\n",
              "      <td>0.116215</td>\n",
              "      <td>24.747929</td>\n",
              "      <td>0.500000</td>\n",
              "      <td>00:00</td>\n",
              "    </tr>\n",
              "    <tr>\n",
              "      <td>29</td>\n",
              "      <td>0.111101</td>\n",
              "      <td>24.939497</td>\n",
              "      <td>0.500000</td>\n",
              "      <td>00:00</td>\n",
              "    </tr>\n",
              "    <tr>\n",
              "      <td>30</td>\n",
              "      <td>0.106327</td>\n",
              "      <td>25.038685</td>\n",
              "      <td>0.500000</td>\n",
              "      <td>00:00</td>\n",
              "    </tr>\n",
              "    <tr>\n",
              "      <td>31</td>\n",
              "      <td>0.101861</td>\n",
              "      <td>25.036884</td>\n",
              "      <td>0.500000</td>\n",
              "      <td>00:00</td>\n",
              "    </tr>\n",
              "    <tr>\n",
              "      <td>32</td>\n",
              "      <td>0.097674</td>\n",
              "      <td>24.984917</td>\n",
              "      <td>0.500000</td>\n",
              "      <td>00:00</td>\n",
              "    </tr>\n",
              "    <tr>\n",
              "      <td>33</td>\n",
              "      <td>0.093742</td>\n",
              "      <td>24.891924</td>\n",
              "      <td>0.500000</td>\n",
              "      <td>00:00</td>\n",
              "    </tr>\n",
              "    <tr>\n",
              "      <td>34</td>\n",
              "      <td>0.090044</td>\n",
              "      <td>24.750057</td>\n",
              "      <td>0.500000</td>\n",
              "      <td>00:00</td>\n",
              "    </tr>\n",
              "    <tr>\n",
              "      <td>35</td>\n",
              "      <td>0.086559</td>\n",
              "      <td>24.566931</td>\n",
              "      <td>0.500000</td>\n",
              "      <td>00:00</td>\n",
              "    </tr>\n",
              "    <tr>\n",
              "      <td>36</td>\n",
              "      <td>0.083271</td>\n",
              "      <td>24.339762</td>\n",
              "      <td>0.500000</td>\n",
              "      <td>00:00</td>\n",
              "    </tr>\n",
              "    <tr>\n",
              "      <td>37</td>\n",
              "      <td>0.080163</td>\n",
              "      <td>24.069033</td>\n",
              "      <td>0.500000</td>\n",
              "      <td>00:00</td>\n",
              "    </tr>\n",
              "    <tr>\n",
              "      <td>38</td>\n",
              "      <td>0.077223</td>\n",
              "      <td>23.753588</td>\n",
              "      <td>0.500000</td>\n",
              "      <td>00:00</td>\n",
              "    </tr>\n",
              "    <tr>\n",
              "      <td>39</td>\n",
              "      <td>0.074437</td>\n",
              "      <td>23.385237</td>\n",
              "      <td>0.500000</td>\n",
              "      <td>00:00</td>\n",
              "    </tr>\n",
              "    <tr>\n",
              "      <td>40</td>\n",
              "      <td>0.071793</td>\n",
              "      <td>23.004597</td>\n",
              "      <td>0.500000</td>\n",
              "      <td>00:00</td>\n",
              "    </tr>\n",
              "    <tr>\n",
              "      <td>41</td>\n",
              "      <td>0.069283</td>\n",
              "      <td>22.586374</td>\n",
              "      <td>0.500000</td>\n",
              "      <td>00:00</td>\n",
              "    </tr>\n",
              "    <tr>\n",
              "      <td>42</td>\n",
              "      <td>0.066896</td>\n",
              "      <td>22.118433</td>\n",
              "      <td>0.500000</td>\n",
              "      <td>00:00</td>\n",
              "    </tr>\n",
              "    <tr>\n",
              "      <td>43</td>\n",
              "      <td>0.064624</td>\n",
              "      <td>21.623161</td>\n",
              "      <td>0.500000</td>\n",
              "      <td>00:00</td>\n",
              "    </tr>\n",
              "    <tr>\n",
              "      <td>44</td>\n",
              "      <td>0.062460</td>\n",
              "      <td>21.096670</td>\n",
              "      <td>0.500000</td>\n",
              "      <td>00:00</td>\n",
              "    </tr>\n",
              "    <tr>\n",
              "      <td>45</td>\n",
              "      <td>0.060395</td>\n",
              "      <td>20.531656</td>\n",
              "      <td>0.500000</td>\n",
              "      <td>00:00</td>\n",
              "    </tr>\n",
              "    <tr>\n",
              "      <td>46</td>\n",
              "      <td>0.058425</td>\n",
              "      <td>19.917173</td>\n",
              "      <td>0.500000</td>\n",
              "      <td>00:00</td>\n",
              "    </tr>\n",
              "    <tr>\n",
              "      <td>47</td>\n",
              "      <td>0.056543</td>\n",
              "      <td>19.265951</td>\n",
              "      <td>0.500000</td>\n",
              "      <td>00:00</td>\n",
              "    </tr>\n",
              "    <tr>\n",
              "      <td>48</td>\n",
              "      <td>0.054743</td>\n",
              "      <td>18.571852</td>\n",
              "      <td>0.500000</td>\n",
              "      <td>00:00</td>\n",
              "    </tr>\n",
              "    <tr>\n",
              "      <td>49</td>\n",
              "      <td>0.053021</td>\n",
              "      <td>17.840048</td>\n",
              "      <td>0.500000</td>\n",
              "      <td>00:00</td>\n",
              "    </tr>\n",
              "    <tr>\n",
              "      <td>50</td>\n",
              "      <td>0.051373</td>\n",
              "      <td>17.092659</td>\n",
              "      <td>0.500000</td>\n",
              "      <td>00:00</td>\n",
              "    </tr>\n",
              "    <tr>\n",
              "      <td>51</td>\n",
              "      <td>0.049793</td>\n",
              "      <td>16.327269</td>\n",
              "      <td>0.500000</td>\n",
              "      <td>00:00</td>\n",
              "    </tr>\n",
              "    <tr>\n",
              "      <td>52</td>\n",
              "      <td>0.048277</td>\n",
              "      <td>15.536184</td>\n",
              "      <td>0.500000</td>\n",
              "      <td>00:00</td>\n",
              "    </tr>\n",
              "    <tr>\n",
              "      <td>53</td>\n",
              "      <td>0.046823</td>\n",
              "      <td>14.709301</td>\n",
              "      <td>0.500000</td>\n",
              "      <td>00:00</td>\n",
              "    </tr>\n",
              "    <tr>\n",
              "      <td>54</td>\n",
              "      <td>0.045427</td>\n",
              "      <td>13.849928</td>\n",
              "      <td>0.500000</td>\n",
              "      <td>00:00</td>\n",
              "    </tr>\n",
              "    <tr>\n",
              "      <td>55</td>\n",
              "      <td>0.044086</td>\n",
              "      <td>12.969112</td>\n",
              "      <td>0.500000</td>\n",
              "      <td>00:00</td>\n",
              "    </tr>\n",
              "    <tr>\n",
              "      <td>56</td>\n",
              "      <td>0.042797</td>\n",
              "      <td>12.081181</td>\n",
              "      <td>0.500000</td>\n",
              "      <td>00:00</td>\n",
              "    </tr>\n",
              "    <tr>\n",
              "      <td>57</td>\n",
              "      <td>0.041557</td>\n",
              "      <td>11.189074</td>\n",
              "      <td>0.500000</td>\n",
              "      <td>00:00</td>\n",
              "    </tr>\n",
              "    <tr>\n",
              "      <td>58</td>\n",
              "      <td>0.040363</td>\n",
              "      <td>10.278455</td>\n",
              "      <td>0.500000</td>\n",
              "      <td>00:00</td>\n",
              "    </tr>\n",
              "    <tr>\n",
              "      <td>59</td>\n",
              "      <td>0.039214</td>\n",
              "      <td>9.350048</td>\n",
              "      <td>0.500000</td>\n",
              "      <td>00:00</td>\n",
              "    </tr>\n",
              "    <tr>\n",
              "      <td>60</td>\n",
              "      <td>0.038107</td>\n",
              "      <td>8.425323</td>\n",
              "      <td>0.500000</td>\n",
              "      <td>00:00</td>\n",
              "    </tr>\n",
              "    <tr>\n",
              "      <td>61</td>\n",
              "      <td>0.037040</td>\n",
              "      <td>7.499443</td>\n",
              "      <td>0.500000</td>\n",
              "      <td>00:00</td>\n",
              "    </tr>\n",
              "    <tr>\n",
              "      <td>62</td>\n",
              "      <td>0.036011</td>\n",
              "      <td>6.590147</td>\n",
              "      <td>0.500000</td>\n",
              "      <td>00:00</td>\n",
              "    </tr>\n",
              "    <tr>\n",
              "      <td>63</td>\n",
              "      <td>0.035018</td>\n",
              "      <td>5.760520</td>\n",
              "      <td>0.562500</td>\n",
              "      <td>00:00</td>\n",
              "    </tr>\n",
              "    <tr>\n",
              "      <td>64</td>\n",
              "      <td>0.034060</td>\n",
              "      <td>5.033235</td>\n",
              "      <td>0.625000</td>\n",
              "      <td>00:00</td>\n",
              "    </tr>\n",
              "    <tr>\n",
              "      <td>65</td>\n",
              "      <td>0.033135</td>\n",
              "      <td>4.426020</td>\n",
              "      <td>0.687500</td>\n",
              "      <td>00:00</td>\n",
              "    </tr>\n",
              "    <tr>\n",
              "      <td>66</td>\n",
              "      <td>0.032242</td>\n",
              "      <td>3.914035</td>\n",
              "      <td>0.687500</td>\n",
              "      <td>00:00</td>\n",
              "    </tr>\n",
              "    <tr>\n",
              "      <td>67</td>\n",
              "      <td>0.031378</td>\n",
              "      <td>3.461707</td>\n",
              "      <td>0.750000</td>\n",
              "      <td>00:00</td>\n",
              "    </tr>\n",
              "    <tr>\n",
              "      <td>68</td>\n",
              "      <td>0.030544</td>\n",
              "      <td>3.060513</td>\n",
              "      <td>0.750000</td>\n",
              "      <td>00:00</td>\n",
              "    </tr>\n",
              "    <tr>\n",
              "      <td>69</td>\n",
              "      <td>0.029737</td>\n",
              "      <td>2.689418</td>\n",
              "      <td>0.750000</td>\n",
              "      <td>00:00</td>\n",
              "    </tr>\n",
              "    <tr>\n",
              "      <td>70</td>\n",
              "      <td>0.028956</td>\n",
              "      <td>2.331568</td>\n",
              "      <td>0.750000</td>\n",
              "      <td>00:00</td>\n",
              "    </tr>\n",
              "    <tr>\n",
              "      <td>71</td>\n",
              "      <td>0.028200</td>\n",
              "      <td>1.981630</td>\n",
              "      <td>0.750000</td>\n",
              "      <td>00:00</td>\n",
              "    </tr>\n",
              "    <tr>\n",
              "      <td>72</td>\n",
              "      <td>0.027469</td>\n",
              "      <td>1.640296</td>\n",
              "      <td>0.750000</td>\n",
              "      <td>00:00</td>\n",
              "    </tr>\n",
              "    <tr>\n",
              "      <td>73</td>\n",
              "      <td>0.026761</td>\n",
              "      <td>1.317731</td>\n",
              "      <td>0.750000</td>\n",
              "      <td>00:00</td>\n",
              "    </tr>\n",
              "    <tr>\n",
              "      <td>74</td>\n",
              "      <td>0.026075</td>\n",
              "      <td>1.028838</td>\n",
              "      <td>0.812500</td>\n",
              "      <td>00:00</td>\n",
              "    </tr>\n",
              "    <tr>\n",
              "      <td>75</td>\n",
              "      <td>0.025410</td>\n",
              "      <td>0.783253</td>\n",
              "      <td>0.812500</td>\n",
              "      <td>00:00</td>\n",
              "    </tr>\n",
              "    <tr>\n",
              "      <td>76</td>\n",
              "      <td>0.024766</td>\n",
              "      <td>0.576090</td>\n",
              "      <td>0.812500</td>\n",
              "      <td>00:00</td>\n",
              "    </tr>\n",
              "    <tr>\n",
              "      <td>77</td>\n",
              "      <td>0.024142</td>\n",
              "      <td>0.404150</td>\n",
              "      <td>0.875000</td>\n",
              "      <td>00:00</td>\n",
              "    </tr>\n",
              "    <tr>\n",
              "      <td>78</td>\n",
              "      <td>0.023536</td>\n",
              "      <td>0.260665</td>\n",
              "      <td>0.875000</td>\n",
              "      <td>00:00</td>\n",
              "    </tr>\n",
              "    <tr>\n",
              "      <td>79</td>\n",
              "      <td>0.022949</td>\n",
              "      <td>0.148364</td>\n",
              "      <td>0.875000</td>\n",
              "      <td>00:00</td>\n",
              "    </tr>\n",
              "    <tr>\n",
              "      <td>80</td>\n",
              "      <td>0.022379</td>\n",
              "      <td>0.075378</td>\n",
              "      <td>0.937500</td>\n",
              "      <td>00:00</td>\n",
              "    </tr>\n",
              "    <tr>\n",
              "      <td>81</td>\n",
              "      <td>0.021826</td>\n",
              "      <td>0.033785</td>\n",
              "      <td>1.000000</td>\n",
              "      <td>00:00</td>\n",
              "    </tr>\n",
              "    <tr>\n",
              "      <td>82</td>\n",
              "      <td>0.021289</td>\n",
              "      <td>0.013717</td>\n",
              "      <td>1.000000</td>\n",
              "      <td>00:00</td>\n",
              "    </tr>\n",
              "    <tr>\n",
              "      <td>83</td>\n",
              "      <td>0.020767</td>\n",
              "      <td>0.005390</td>\n",
              "      <td>1.000000</td>\n",
              "      <td>00:00</td>\n",
              "    </tr>\n",
              "    <tr>\n",
              "      <td>84</td>\n",
              "      <td>0.020261</td>\n",
              "      <td>0.002140</td>\n",
              "      <td>1.000000</td>\n",
              "      <td>00:00</td>\n",
              "    </tr>\n",
              "    <tr>\n",
              "      <td>85</td>\n",
              "      <td>0.019769</td>\n",
              "      <td>0.000875</td>\n",
              "      <td>1.000000</td>\n",
              "      <td>00:00</td>\n",
              "    </tr>\n",
              "    <tr>\n",
              "      <td>86</td>\n",
              "      <td>0.019292</td>\n",
              "      <td>0.000383</td>\n",
              "      <td>1.000000</td>\n",
              "      <td>00:00</td>\n",
              "    </tr>\n",
              "    <tr>\n",
              "      <td>87</td>\n",
              "      <td>0.018827</td>\n",
              "      <td>0.000175</td>\n",
              "      <td>1.000000</td>\n",
              "      <td>00:00</td>\n",
              "    </tr>\n",
              "    <tr>\n",
              "      <td>88</td>\n",
              "      <td>0.018376</td>\n",
              "      <td>0.000084</td>\n",
              "      <td>1.000000</td>\n",
              "      <td>00:00</td>\n",
              "    </tr>\n",
              "    <tr>\n",
              "      <td>89</td>\n",
              "      <td>0.017937</td>\n",
              "      <td>0.000042</td>\n",
              "      <td>1.000000</td>\n",
              "      <td>00:00</td>\n",
              "    </tr>\n",
              "    <tr>\n",
              "      <td>90</td>\n",
              "      <td>0.017511</td>\n",
              "      <td>0.000023</td>\n",
              "      <td>1.000000</td>\n",
              "      <td>00:00</td>\n",
              "    </tr>\n",
              "    <tr>\n",
              "      <td>91</td>\n",
              "      <td>0.017096</td>\n",
              "      <td>0.000013</td>\n",
              "      <td>1.000000</td>\n",
              "      <td>00:00</td>\n",
              "    </tr>\n",
              "    <tr>\n",
              "      <td>92</td>\n",
              "      <td>0.016692</td>\n",
              "      <td>0.000008</td>\n",
              "      <td>1.000000</td>\n",
              "      <td>00:00</td>\n",
              "    </tr>\n",
              "    <tr>\n",
              "      <td>93</td>\n",
              "      <td>0.016300</td>\n",
              "      <td>0.000005</td>\n",
              "      <td>1.000000</td>\n",
              "      <td>00:00</td>\n",
              "    </tr>\n",
              "    <tr>\n",
              "      <td>94</td>\n",
              "      <td>0.015918</td>\n",
              "      <td>0.000003</td>\n",
              "      <td>1.000000</td>\n",
              "      <td>00:00</td>\n",
              "    </tr>\n",
              "    <tr>\n",
              "      <td>95</td>\n",
              "      <td>0.015546</td>\n",
              "      <td>0.000002</td>\n",
              "      <td>1.000000</td>\n",
              "      <td>00:00</td>\n",
              "    </tr>\n",
              "    <tr>\n",
              "      <td>96</td>\n",
              "      <td>0.015184</td>\n",
              "      <td>0.000002</td>\n",
              "      <td>1.000000</td>\n",
              "      <td>00:00</td>\n",
              "    </tr>\n",
              "    <tr>\n",
              "      <td>97</td>\n",
              "      <td>0.014832</td>\n",
              "      <td>0.000001</td>\n",
              "      <td>1.000000</td>\n",
              "      <td>00:00</td>\n",
              "    </tr>\n",
              "    <tr>\n",
              "      <td>98</td>\n",
              "      <td>0.014489</td>\n",
              "      <td>0.000001</td>\n",
              "      <td>1.000000</td>\n",
              "      <td>00:00</td>\n",
              "    </tr>\n",
              "    <tr>\n",
              "      <td>99</td>\n",
              "      <td>0.014154</td>\n",
              "      <td>0.000001</td>\n",
              "      <td>1.000000</td>\n",
              "      <td>00:00</td>\n",
              "    </tr>\n",
              "  </tbody>\n",
              "</table>"
            ],
            "text/plain": [
              "<IPython.core.display.HTML object>"
            ]
          },
          "metadata": {},
          "output_type": "display_data"
        }
      ],
      "source": [
        "one_batch_learner.fit_one_cycle(n_epoch=100, lr_max=0.01)"
      ]
    },
    {
      "cell_type": "markdown",
      "metadata": {
        "id": "_sDW1GnJn5yN"
      },
      "source": [
        "# Train & eval"
      ]
    },
    {
      "cell_type": "markdown",
      "metadata": {
        "id": "VxCGm84R1ELi"
      },
      "source": [
        "### Baseline"
      ]
    },
    {
      "cell_type": "code",
      "execution_count": null,
      "metadata": {
        "colab": {
          "base_uri": "https://localhost:8080/"
        },
        "id": "KJ1KNcgA-69n",
        "outputId": "b6bb8e76-9569-4d1e-cdba-6e35fff440a9"
      },
      "outputs": [
        {
          "name": "stdout",
          "output_type": "stream",
          "text": [
            "ClassifierBaseline(\n",
            "  (features): Sequential(\n",
            "    (0): Conv1d(1, 4, kernel_size=(80,), stride=(64,), bias=False)\n",
            "    (1): BatchNorm1d(4, eps=1e-05, momentum=0.1, affine=True, track_running_stats=True)\n",
            "    (2): ReLU()\n",
            "    (3): Conv1d(4, 16, kernel_size=(3,), stride=(4,), bias=False)\n",
            "    (4): BatchNorm1d(16, eps=1e-05, momentum=0.1, affine=True, track_running_stats=True)\n",
            "    (5): ReLU()\n",
            "    (6): Conv1d(16, 16, kernel_size=(3,), stride=(4,), bias=False)\n",
            "    (7): BatchNorm1d(16, eps=1e-05, momentum=0.1, affine=True, track_running_stats=True)\n",
            "    (8): ReLU()\n",
            "    (9): AdaptiveMaxPool1d(output_size=16)\n",
            "  )\n",
            "  (classifier): Linear(in_features=256, out_features=10, bias=True)\n",
            ")\n",
            "Number of parameters: 3922\n"
          ]
        }
      ],
      "source": [
        "# model = ClassifierBaseline(input_channels=1, output_size=10).to(DEVICE)\n",
        "# print(model)\n",
        "# print(\"Number of parameters:\", count_parameters(model))\n",
        "\n",
        "# opt_func = partial(OptimWrapper, opt=optim.Adam)\n",
        "# learner = Learner(\n",
        "#     fulltrain_dls, model,\n",
        "#     loss_func=F.nll_loss, opt_func=opt_func, metrics=accuracy)"
      ]
    },
    {
      "cell_type": "markdown",
      "metadata": {
        "id": "2r-8S9w31M1b"
      },
      "source": [
        "### ResNet"
      ]
    },
    {
      "cell_type": "code",
      "execution_count": null,
      "metadata": {
        "colab": {
          "base_uri": "https://localhost:8080/"
        },
        "id": "r5eH2HzM1V7a",
        "outputId": "2318d3da-7295-4c41-c78d-e38b903e4999"
      },
      "outputs": [
        {
          "name": "stdout",
          "output_type": "stream",
          "text": [
            "AudioResNet(\n",
            "  (features): Sequential(\n",
            "    (0): Conv1d(1, 16, kernel_size=(17,), stride=(16,), bias=False)\n",
            "    (1): BatchNorm1d(16, eps=1e-05, momentum=0.1, affine=True, track_running_stats=True)\n",
            "    (2): ReLU()\n",
            "    (3): ResidualConv1dBlock(\n",
            "      (layers): Sequential(\n",
            "        (0): Conv1d(16, 32, kernel_size=(3,), stride=(2,), padding=(1,), bias=False)\n",
            "        (1): BatchNorm1d(32, eps=1e-05, momentum=0.1, affine=True, track_running_stats=True)\n",
            "        (2): ReLU()\n",
            "        (3): Conv1d(32, 32, kernel_size=(3,), stride=(1,), padding=(1,), bias=False)\n",
            "        (4): BatchNorm1d(32, eps=1e-05, momentum=0.1, affine=True, track_running_stats=True)\n",
            "      )\n",
            "      (shortcut): Sequential(\n",
            "        (0): Conv1d(16, 32, kernel_size=(1,), stride=(2,), bias=False)\n",
            "        (1): BatchNorm1d(32, eps=1e-05, momentum=0.1, affine=True, track_running_stats=True)\n",
            "      )\n",
            "    )\n",
            "    (4): ResidualConv1dBlock(\n",
            "      (layers): Sequential(\n",
            "        (0): Conv1d(32, 32, kernel_size=(3,), stride=(2,), padding=(1,), bias=False)\n",
            "        (1): BatchNorm1d(32, eps=1e-05, momentum=0.1, affine=True, track_running_stats=True)\n",
            "        (2): ReLU()\n",
            "        (3): Conv1d(32, 32, kernel_size=(3,), stride=(1,), padding=(1,), bias=False)\n",
            "        (4): BatchNorm1d(32, eps=1e-05, momentum=0.1, affine=True, track_running_stats=True)\n",
            "      )\n",
            "      (shortcut): Sequential(\n",
            "        (0): Conv1d(32, 32, kernel_size=(1,), stride=(2,), bias=False)\n",
            "        (1): BatchNorm1d(32, eps=1e-05, momentum=0.1, affine=True, track_running_stats=True)\n",
            "      )\n",
            "    )\n",
            "    (5): ResidualConv1dBlock(\n",
            "      (layers): Sequential(\n",
            "        (0): Conv1d(32, 32, kernel_size=(3,), stride=(2,), padding=(1,), bias=False)\n",
            "        (1): BatchNorm1d(32, eps=1e-05, momentum=0.1, affine=True, track_running_stats=True)\n",
            "        (2): ReLU()\n",
            "        (3): Conv1d(32, 32, kernel_size=(3,), stride=(1,), padding=(1,), bias=False)\n",
            "        (4): BatchNorm1d(32, eps=1e-05, momentum=0.1, affine=True, track_running_stats=True)\n",
            "      )\n",
            "      (shortcut): Sequential(\n",
            "        (0): Conv1d(32, 32, kernel_size=(1,), stride=(2,), bias=False)\n",
            "        (1): BatchNorm1d(32, eps=1e-05, momentum=0.1, affine=True, track_running_stats=True)\n",
            "      )\n",
            "    )\n",
            "    (6): ResidualConv1dBlock(\n",
            "      (layers): Sequential(\n",
            "        (0): Conv1d(32, 64, kernel_size=(3,), stride=(2,), padding=(1,), bias=False)\n",
            "        (1): BatchNorm1d(64, eps=1e-05, momentum=0.1, affine=True, track_running_stats=True)\n",
            "        (2): ReLU()\n",
            "        (3): Conv1d(64, 64, kernel_size=(3,), stride=(1,), padding=(1,), bias=False)\n",
            "        (4): BatchNorm1d(64, eps=1e-05, momentum=0.1, affine=True, track_running_stats=True)\n",
            "      )\n",
            "      (shortcut): Sequential(\n",
            "        (0): Conv1d(32, 64, kernel_size=(1,), stride=(2,), bias=False)\n",
            "        (1): BatchNorm1d(64, eps=1e-05, momentum=0.1, affine=True, track_running_stats=True)\n",
            "      )\n",
            "    )\n",
            "    (7): ResidualConv1dBlock(\n",
            "      (layers): Sequential(\n",
            "        (0): Conv1d(64, 64, kernel_size=(3,), stride=(2,), padding=(1,), bias=False)\n",
            "        (1): BatchNorm1d(64, eps=1e-05, momentum=0.1, affine=True, track_running_stats=True)\n",
            "        (2): ReLU()\n",
            "        (3): Conv1d(64, 64, kernel_size=(3,), stride=(1,), padding=(1,), bias=False)\n",
            "        (4): BatchNorm1d(64, eps=1e-05, momentum=0.1, affine=True, track_running_stats=True)\n",
            "      )\n",
            "      (shortcut): Sequential(\n",
            "        (0): Conv1d(64, 64, kernel_size=(1,), stride=(2,), bias=False)\n",
            "        (1): BatchNorm1d(64, eps=1e-05, momentum=0.1, affine=True, track_running_stats=True)\n",
            "      )\n",
            "    )\n",
            "    (8): ResidualConv1dBlock(\n",
            "      (layers): Sequential(\n",
            "        (0): Conv1d(64, 64, kernel_size=(3,), stride=(2,), padding=(1,), bias=False)\n",
            "        (1): BatchNorm1d(64, eps=1e-05, momentum=0.1, affine=True, track_running_stats=True)\n",
            "        (2): ReLU()\n",
            "        (3): Conv1d(64, 64, kernel_size=(3,), stride=(1,), padding=(1,), bias=False)\n",
            "        (4): BatchNorm1d(64, eps=1e-05, momentum=0.1, affine=True, track_running_stats=True)\n",
            "      )\n",
            "      (shortcut): Sequential(\n",
            "        (0): Conv1d(64, 64, kernel_size=(1,), stride=(2,), bias=False)\n",
            "        (1): BatchNorm1d(64, eps=1e-05, momentum=0.1, affine=True, track_running_stats=True)\n",
            "      )\n",
            "    )\n",
            "    (9): AdaptiveMaxPool1d(output_size=128)\n",
            "  )\n",
            "  (classifier): Linear(in_features=8192, out_features=10, bias=True)\n",
            ")\n",
            "Number of parameters: 181242\n"
          ]
        }
      ],
      "source": [
        "layers_args = [\n",
        "    [16, 17, 16],    # first conv hidden-kernel-stride\n",
        "    [16, 32, 2],  # residual blocks in-out-stride (ks=3)\n",
        "    [32, 32, 2],\n",
        "    [32, 32, 2],\n",
        "    [32, 64, 2],\n",
        "    [64, 64, 2],\n",
        "    [64, 64, 2],\n",
        "    [64, 128],    # final hidden-pool\n",
        "]\n",
        "model = AudioResNet(input_channels=1, output_size=10, layers_args=layers_args).to(DEVICE)\n",
        "print(model)\n",
        "print(\"Number of parameters:\", count_parameters(model))\n",
        "\n",
        "opt_func = partial(OptimWrapper, opt=optim.Adam)\n",
        "learner = Learner(\n",
        "    fulltrain_dls, model,\n",
        "    loss_func=F.nll_loss, opt_func=opt_func, metrics=accuracy)"
      ]
    },
    {
      "cell_type": "markdown",
      "metadata": {
        "id": "nJ2gQ70g1RBI"
      },
      "source": [
        "### Run"
      ]
    },
    {
      "cell_type": "code",
      "execution_count": null,
      "metadata": {
        "colab": {
          "base_uri": "https://localhost:8080/",
          "height": 475
        },
        "id": "QXykDHdZoRYn",
        "outputId": "6fb91027-e9b1-4069-e09d-e1095b02847a"
      },
      "outputs": [
        {
          "output_type": "display_data",
          "data": {
            "text/plain": [
              "<IPython.core.display.HTML object>"
            ],
            "text/html": [
              "\n",
              "<style>\n",
              "    /* Turns off some styling */\n",
              "    progress {\n",
              "        /* gets rid of default border in Firefox and Opera. */\n",
              "        border: none;\n",
              "        /* Needs to be in here for Safari polyfill so background images work as expected. */\n",
              "        background-size: auto;\n",
              "    }\n",
              "    progress:not([value]), progress:not([value])::-webkit-progress-bar {\n",
              "        background: repeating-linear-gradient(45deg, #7e7e7e, #7e7e7e 10px, #5c5c5c 10px, #5c5c5c 20px);\n",
              "    }\n",
              "    .progress-bar-interrupted, .progress-bar-interrupted::-webkit-progress-bar {\n",
              "        background: #F44336;\n",
              "    }\n",
              "</style>\n"
            ]
          },
          "metadata": {}
        },
        {
          "output_type": "display_data",
          "data": {
            "text/plain": [
              "<IPython.core.display.HTML object>"
            ],
            "text/html": []
          },
          "metadata": {}
        },
        {
          "output_type": "execute_result",
          "data": {
            "text/plain": [
              "SuggestedLRs(valley=7.585775892948732e-05)"
            ]
          },
          "metadata": {},
          "execution_count": 45
        },
        {
          "output_type": "display_data",
          "data": {
            "text/plain": [
              "<Figure size 640x480 with 1 Axes>"
            ],
            "image/png": "[encoded data removed]"
          },
          "metadata": {}
        }
      ],
      "source": [
        "learner.lr_find()"
      ]
    },
    {
      "cell_type": "code",
      "execution_count": null,
      "metadata": {
        "colab": {
          "base_uri": "https://localhost:8080/",
          "height": 885
        },
        "id": "NSab8WjirA-7",
        "outputId": "f83b1876-cf72-4764-b909-7eea14c0baf8"
      },
      "outputs": [
        {
          "output_type": "display_data",
          "data": {
            "text/plain": [
              "<IPython.core.display.HTML object>"
            ],
            "text/html": [
              "\n",
              "<style>\n",
              "    /* Turns off some styling */\n",
              "    progress {\n",
              "        /* gets rid of default border in Firefox and Opera. */\n",
              "        border: none;\n",
              "        /* Needs to be in here for Safari polyfill so background images work as expected. */\n",
              "        background-size: auto;\n",
              "    }\n",
              "    progress:not([value]), progress:not([value])::-webkit-progress-bar {\n",
              "        background: repeating-linear-gradient(45deg, #7e7e7e, #7e7e7e 10px, #5c5c5c 10px, #5c5c5c 20px);\n",
              "    }\n",
              "    .progress-bar-interrupted, .progress-bar-interrupted::-webkit-progress-bar {\n",
              "        background: #F44336;\n",
              "    }\n",
              "</style>\n"
            ]
          },
          "metadata": {}
        },
        {
          "output_type": "display_data",
          "data": {
            "text/plain": [
              "<IPython.core.display.HTML object>"
            ],
            "text/html": [
              "<table border=\"1\" class=\"dataframe\">\n",
              "  <thead>\n",
              "    <tr style=\"text-align: left;\">\n",
              "      <th>epoch</th>\n",
              "      <th>train_loss</th>\n",
              "      <th>valid_loss</th>\n",
              "      <th>accuracy</th>\n",
              "      <th>time</th>\n",
              "    </tr>\n",
              "  </thead>\n",
              "  <tbody>\n",
              "    <tr>\n",
              "      <td>0</td>\n",
              "      <td>2.228632</td>\n",
              "      <td>2.143038</td>\n",
              "      <td>0.240143</td>\n",
              "      <td>01:34</td>\n",
              "    </tr>\n",
              "    <tr>\n",
              "      <td>1</td>\n",
              "      <td>2.029533</td>\n",
              "      <td>2.030323</td>\n",
              "      <td>0.259259</td>\n",
              "      <td>01:20</td>\n",
              "    </tr>\n",
              "    <tr>\n",
              "      <td>2</td>\n",
              "      <td>1.710844</td>\n",
              "      <td>1.844506</td>\n",
              "      <td>0.360812</td>\n",
              "      <td>01:19</td>\n",
              "    </tr>\n",
              "    <tr>\n",
              "      <td>3</td>\n",
              "      <td>1.561704</td>\n",
              "      <td>1.747398</td>\n",
              "      <td>0.357228</td>\n",
              "      <td>01:18</td>\n",
              "    </tr>\n",
              "    <tr>\n",
              "      <td>4</td>\n",
              "      <td>1.394340</td>\n",
              "      <td>1.613652</td>\n",
              "      <td>0.431302</td>\n",
              "      <td>01:24</td>\n",
              "    </tr>\n",
              "    <tr>\n",
              "      <td>5</td>\n",
              "      <td>1.228374</td>\n",
              "      <td>1.750076</td>\n",
              "      <td>0.444444</td>\n",
              "      <td>01:19</td>\n",
              "    </tr>\n",
              "    <tr>\n",
              "      <td>6</td>\n",
              "      <td>1.216936</td>\n",
              "      <td>1.663137</td>\n",
              "      <td>0.459976</td>\n",
              "      <td>01:18</td>\n",
              "    </tr>\n",
              "    <tr>\n",
              "      <td>7</td>\n",
              "      <td>1.027635</td>\n",
              "      <td>1.627691</td>\n",
              "      <td>0.486260</td>\n",
              "      <td>01:20</td>\n",
              "    </tr>\n",
              "    <tr>\n",
              "      <td>8</td>\n",
              "      <td>0.970717</td>\n",
              "      <td>1.521134</td>\n",
              "      <td>0.522103</td>\n",
              "      <td>01:18</td>\n",
              "    </tr>\n",
              "    <tr>\n",
              "      <td>9</td>\n",
              "      <td>0.880404</td>\n",
              "      <td>1.550214</td>\n",
              "      <td>0.519713</td>\n",
              "      <td>01:20</td>\n",
              "    </tr>\n",
              "    <tr>\n",
              "      <td>10</td>\n",
              "      <td>0.775168</td>\n",
              "      <td>1.516639</td>\n",
              "      <td>0.523297</td>\n",
              "      <td>01:31</td>\n",
              "    </tr>\n",
              "    <tr>\n",
              "      <td>11</td>\n",
              "      <td>0.785707</td>\n",
              "      <td>1.557245</td>\n",
              "      <td>0.548387</td>\n",
              "      <td>01:21</td>\n",
              "    </tr>\n",
              "    <tr>\n",
              "      <td>12</td>\n",
              "      <td>0.659781</td>\n",
              "      <td>1.534167</td>\n",
              "      <td>0.561529</td>\n",
              "      <td>01:25</td>\n",
              "    </tr>\n",
              "    <tr>\n",
              "      <td>13</td>\n",
              "      <td>0.616283</td>\n",
              "      <td>1.540000</td>\n",
              "      <td>0.536440</td>\n",
              "      <td>01:20</td>\n",
              "    </tr>\n",
              "    <tr>\n",
              "      <td>14</td>\n",
              "      <td>0.579456</td>\n",
              "      <td>1.536642</td>\n",
              "      <td>0.562724</td>\n",
              "      <td>01:18</td>\n",
              "    </tr>\n",
              "    <tr>\n",
              "      <td>15</td>\n",
              "      <td>0.572143</td>\n",
              "      <td>1.546315</td>\n",
              "      <td>0.529271</td>\n",
              "      <td>01:19</td>\n",
              "    </tr>\n",
              "    <tr>\n",
              "      <td>16</td>\n",
              "      <td>0.546067</td>\n",
              "      <td>1.543020</td>\n",
              "      <td>0.541219</td>\n",
              "      <td>01:21</td>\n",
              "    </tr>\n",
              "    <tr>\n",
              "      <td>17</td>\n",
              "      <td>0.511941</td>\n",
              "      <td>1.557332</td>\n",
              "      <td>0.551971</td>\n",
              "      <td>01:19</td>\n",
              "    </tr>\n",
              "    <tr>\n",
              "      <td>18</td>\n",
              "      <td>0.492410</td>\n",
              "      <td>1.548160</td>\n",
              "      <td>0.543608</td>\n",
              "      <td>01:21</td>\n",
              "    </tr>\n",
              "    <tr>\n",
              "      <td>19</td>\n",
              "      <td>0.486902</td>\n",
              "      <td>1.530018</td>\n",
              "      <td>0.548387</td>\n",
              "      <td>01:19</td>\n",
              "    </tr>\n",
              "  </tbody>\n",
              "</table>"
            ]
          },
          "metadata": {}
        },
        {
          "output_type": "stream",
          "name": "stdout",
          "text": [
            "Better model found at epoch 0 with accuracy value: 0.24014337360858917.\n",
            "Better model found at epoch 1 with accuracy value: 0.25925925374031067.\n",
            "Better model found at epoch 2 with accuracy value: 0.3608124256134033.\n",
            "Better model found at epoch 4 with accuracy value: 0.4313022792339325.\n",
            "Better model found at epoch 5 with accuracy value: 0.4444444477558136.\n",
            "Better model found at epoch 6 with accuracy value: 0.45997610688209534.\n",
            "Better model found at epoch 7 with accuracy value: 0.48626044392585754.\n",
            "Better model found at epoch 8 with accuracy value: 0.5221027731895447.\n",
            "Better model found at epoch 10 with accuracy value: 0.5232974886894226.\n",
            "Better model found at epoch 11 with accuracy value: 0.5483871102333069.\n",
            "Better model found at epoch 12 with accuracy value: 0.561529278755188.\n",
            "Better model found at epoch 14 with accuracy value: 0.5627239942550659.\n"
          ]
        }
      ],
      "source": [
        "config = {\n",
        "    'fit': {\n",
        "        'n_epoch': 20,\n",
        "        'lr_max': 1e-4,\n",
        "    },\n",
        "    'fit_func': 'fit_one_cycle',\n",
        "    'dataset': 'danavery/urbansound8K',\n",
        "    'dataset_details': 'folds: train 1-9, test 10',\n",
        "}\n",
        "\n",
        "learner.fit_one_cycle(\n",
        "    **config['fit'],\n",
        "    cbs=SaveModelCallback(monitor='accuracy'))"
      ]
    },
    {
      "cell_type": "code",
      "execution_count": null,
      "metadata": {
        "colab": {
          "base_uri": "https://localhost:8080/",
          "height": 430
        },
        "id": "PacTT7zvvRc-",
        "outputId": "0e1b9382-502c-4bb3-b114-01c4118e106d"
      },
      "outputs": [
        {
          "output_type": "display_data",
          "data": {
            "text/plain": [
              "<Figure size 640x480 with 1 Axes>"
            ],
            "image/png": "[encoded data removed]"
          },
          "metadata": {}
        }
      ],
      "source": [
        "plt.figure()\n",
        "learner.recorder.plot_loss()\n",
        "plt.savefig('loss.png')"
      ]
    },
    {
      "cell_type": "code",
      "execution_count": null,
      "metadata": {
        "colab": {
          "base_uri": "https://localhost:8080/",
          "height": 125
        },
        "id": "4AwDh-O2yXKw",
        "outputId": "6f26c85d-c28e-4e22-9373-8255f9785428"
      },
      "outputs": [
        {
          "output_type": "display_data",
          "data": {
            "text/plain": [
              "<IPython.core.display.HTML object>"
            ],
            "text/html": [
              "\n",
              "<style>\n",
              "    /* Turns off some styling */\n",
              "    progress {\n",
              "        /* gets rid of default border in Firefox and Opera. */\n",
              "        border: none;\n",
              "        /* Needs to be in here for Safari polyfill so background images work as expected. */\n",
              "        background-size: auto;\n",
              "    }\n",
              "    progress:not([value]), progress:not([value])::-webkit-progress-bar {\n",
              "        background: repeating-linear-gradient(45deg, #7e7e7e, #7e7e7e 10px, #5c5c5c 10px, #5c5c5c 20px);\n",
              "    }\n",
              "    .progress-bar-interrupted, .progress-bar-interrupted::-webkit-progress-bar {\n",
              "        background: #F44336;\n",
              "    }\n",
              "</style>\n"
            ]
          },
          "metadata": {}
        },
        {
          "output_type": "display_data",
          "data": {
            "text/plain": [
              "<IPython.core.display.HTML object>"
            ],
            "text/html": []
          },
          "metadata": {}
        },
        {
          "output_type": "display_data",
          "data": {
            "text/plain": [
              "<IPython.core.display.HTML object>"
            ],
            "text/html": [
              "\n",
              "<style>\n",
              "    /* Turns off some styling */\n",
              "    progress {\n",
              "        /* gets rid of default border in Firefox and Opera. */\n",
              "        border: none;\n",
              "        /* Needs to be in here for Safari polyfill so background images work as expected. */\n",
              "        background-size: auto;\n",
              "    }\n",
              "    progress:not([value]), progress:not([value])::-webkit-progress-bar {\n",
              "        background: repeating-linear-gradient(45deg, #7e7e7e, #7e7e7e 10px, #5c5c5c 10px, #5c5c5c 20px);\n",
              "    }\n",
              "    .progress-bar-interrupted, .progress-bar-interrupted::-webkit-progress-bar {\n",
              "        background: #F44336;\n",
              "    }\n",
              "</style>\n"
            ]
          },
          "metadata": {}
        },
        {
          "output_type": "display_data",
          "data": {
            "text/plain": [
              "<IPython.core.display.HTML object>"
            ],
            "text/html": []
          },
          "metadata": {}
        },
        {
          "output_type": "execute_result",
          "data": {
            "text/plain": [
              "            nll  accuracy\n",
              "train  0.454895  0.870399\n",
              "test   1.536642  0.562724"
            ],
            "text/html": [
              "\n",
              "  <div id=\"df-b2c1dbdf-a667-4ee4-8316-e9e921883179\" class=\"colab-df-container\">\n",
              "    <div>\n",
              "<style scoped>\n",
              "    .dataframe tbody tr th:only-of-type {\n",
              "        vertical-align: middle;\n",
              "    }\n",
              "\n",
              "    .dataframe tbody tr th {\n",
              "        vertical-align: top;\n",
              "    }\n",
              "\n",
              "    .dataframe thead th {\n",
              "        text-align: right;\n",
              "    }\n",
              "</style>\n",
              "<table border=\"1\" class=\"dataframe\">\n",
              "  <thead>\n",
              "    <tr style=\"text-align: right;\">\n",
              "      <th></th>\n",
              "      <th>nll</th>\n",
              "      <th>accuracy</th>\n",
              "    </tr>\n",
              "  </thead>\n",
              "  <tbody>\n",
              "    <tr>\n",
              "      <th>train</th>\n",
              "      <td>0.454895</td>\n",
              "      <td>0.870399</td>\n",
              "    </tr>\n",
              "    <tr>\n",
              "      <th>test</th>\n",
              "      <td>1.536642</td>\n",
              "      <td>0.562724</td>\n",
              "    </tr>\n",
              "  </tbody>\n",
              "</table>\n",
              "</div>\n",
              "    <div class=\"colab-df-buttons\">\n",
              "\n",
              "  <div class=\"colab-df-container\">\n",
              "    <button class=\"colab-df-convert\" onclick=\"convertToInteractive('df-b2c1dbdf-a667-4ee4-8316-e9e921883179')\"\n",
              "            title=\"Convert this dataframe to an interactive table.\"\n",
              "            style=\"display:none;\">\n",
              "\n",
              "  <svg xmlns=\"http://www.w3.org/2000/svg\" height=\"24px\" viewBox=\"0 -960 960 960\">\n",
              "    <path d=\"M120-120v-720h720v720H120Zm60-500h600v-160H180v160Zm220 220h160v-160H400v160Zm0 220h160v-160H400v160ZM180-400h160v-160H180v160Zm440 0h160v-160H620v160ZM180-180h160v-160H180v160Zm440 0h160v-160H620v160Z\"/>\n",
              "  </svg>\n",
              "    </button>\n",
              "\n",
              "  <style>\n",
              "    .colab-df-container {\n",
              "      display:flex;\n",
              "      gap: 12px;\n",
              "    }\n",
              "\n",
              "    .colab-df-convert {\n",
              "      background-color: #E8F0FE;\n",
              "      border: none;\n",
              "      border-radius: 50%;\n",
              "      cursor: pointer;\n",
              "      display: none;\n",
              "      fill: #1967D2;\n",
              "      height: 32px;\n",
              "      padding: 0 0 0 0;\n",
              "      width: 32px;\n",
              "    }\n",
              "\n",
              "    .colab-df-convert:hover {\n",
              "      background-color: #E2EBFA;\n",
              "      box-shadow: 0px 1px 2px rgba(60, 64, 67, 0.3), 0px 1px 3px 1px rgba(60, 64, 67, 0.15);\n",
              "      fill: #174EA6;\n",
              "    }\n",
              "\n",
              "    .colab-df-buttons div {\n",
              "      margin-bottom: 4px;\n",
              "    }\n",
              "\n",
              "    [theme=dark] .colab-df-convert {\n",
              "      background-color: #3B4455;\n",
              "      fill: #D2E3FC;\n",
              "    }\n",
              "\n",
              "    [theme=dark] .colab-df-convert:hover {\n",
              "      background-color: #434B5C;\n",
              "      box-shadow: 0px 1px 3px 1px rgba(0, 0, 0, 0.15);\n",
              "      filter: drop-shadow(0px 1px 2px rgba(0, 0, 0, 0.3));\n",
              "      fill: #FFFFFF;\n",
              "    }\n",
              "  </style>\n",
              "\n",
              "    <script>\n",
              "      const buttonEl =\n",
              "        document.querySelector('#df-b2c1dbdf-a667-4ee4-8316-e9e921883179 button.colab-df-convert');\n",
              "      buttonEl.style.display =\n",
              "        google.colab.kernel.accessAllowed ? 'block' : 'none';\n",
              "\n",
              "      async function convertToInteractive(key) {\n",
              "        const element = document.querySelector('#df-b2c1dbdf-a667-4ee4-8316-e9e921883179');\n",
              "        const dataTable =\n",
              "          await google.colab.kernel.invokeFunction('convertToInteractive',\n",
              "                                                    [key], {});\n",
              "        if (!dataTable) return;\n",
              "\n",
              "        const docLinkHtml = 'Like what you see? Visit the ' +\n",
              "          '<a target=\"_blank\" href=https://colab.research.google.com/notebooks/data_table.ipynb>data table notebook</a>'\n",
              "          + ' to learn more about interactive tables.';\n",
              "        element.innerHTML = '';\n",
              "        dataTable['output_type'] = 'display_data';\n",
              "        await google.colab.output.renderOutput(dataTable, element);\n",
              "        const docLink = document.createElement('div');\n",
              "        docLink.innerHTML = docLinkHtml;\n",
              "        element.appendChild(docLink);\n",
              "      }\n",
              "    </script>\n",
              "  </div>\n",
              "\n",
              "\n",
              "<div id=\"df-cf86e2de-5d5b-411a-8c5f-73ab1f0a7018\">\n",
              "  <button class=\"colab-df-quickchart\" onclick=\"quickchart('df-cf86e2de-5d5b-411a-8c5f-73ab1f0a7018')\"\n",
              "            title=\"Suggest charts\"\n",
              "            style=\"display:none;\">\n",
              "\n",
              "<svg xmlns=\"http://www.w3.org/2000/svg\" height=\"24px\"viewBox=\"0 0 24 24\"\n",
              "     width=\"24px\">\n",
              "    <g>\n",
              "        <path d=\"M19 3H5c-1.1 0-2 .9-2 2v14c0 1.1.9 2 2 2h14c1.1 0 2-.9 2-2V5c0-1.1-.9-2-2-2zM9 17H7v-7h2v7zm4 0h-2V7h2v10zm4 0h-2v-4h2v4z\"/>\n",
              "    </g>\n",
              "</svg>\n",
              "  </button>\n",
              "\n",
              "<style>\n",
              "  .colab-df-quickchart {\n",
              "      --bg-color: #E8F0FE;\n",
              "      --fill-color: #1967D2;\n",
              "      --hover-bg-color: #E2EBFA;\n",
              "      --hover-fill-color: #174EA6;\n",
              "      --disabled-fill-color: #AAA;\n",
              "      --disabled-bg-color: #DDD;\n",
              "  }\n",
              "\n",
              "  [theme=dark] .colab-df-quickchart {\n",
              "      --bg-color: #3B4455;\n",
              "      --fill-color: #D2E3FC;\n",
              "      --hover-bg-color: #434B5C;\n",
              "      --hover-fill-color: #FFFFFF;\n",
              "      --disabled-bg-color: #3B4455;\n",
              "      --disabled-fill-color: #666;\n",
              "  }\n",
              "\n",
              "  .colab-df-quickchart {\n",
              "    background-color: var(--bg-color);\n",
              "    border: none;\n",
              "    border-radius: 50%;\n",
              "    cursor: pointer;\n",
              "    display: none;\n",
              "    fill: var(--fill-color);\n",
              "    height: 32px;\n",
              "    padding: 0;\n",
              "    width: 32px;\n",
              "  }\n",
              "\n",
              "  .colab-df-quickchart:hover {\n",
              "    background-color: var(--hover-bg-color);\n",
              "    box-shadow: 0 1px 2px rgba(60, 64, 67, 0.3), 0 1px 3px 1px rgba(60, 64, 67, 0.15);\n",
              "    fill: var(--button-hover-fill-color);\n",
              "  }\n",
              "\n",
              "  .colab-df-quickchart-complete:disabled,\n",
              "  .colab-df-quickchart-complete:disabled:hover {\n",
              "    background-color: var(--disabled-bg-color);\n",
              "    fill: var(--disabled-fill-color);\n",
              "    box-shadow: none;\n",
              "  }\n",
              "\n",
              "  .colab-df-spinner {\n",
              "    border: 2px solid var(--fill-color);\n",
              "    border-color: transparent;\n",
              "    border-bottom-color: var(--fill-color);\n",
              "    animation:\n",
              "      spin 1s steps(1) infinite;\n",
              "  }\n",
              "\n",
              "  @keyframes spin {\n",
              "    0% {\n",
              "      border-color: transparent;\n",
              "      border-bottom-color: var(--fill-color);\n",
              "      border-left-color: var(--fill-color);\n",
              "    }\n",
              "    20% {\n",
              "      border-color: transparent;\n",
              "      border-left-color: var(--fill-color);\n",
              "      border-top-color: var(--fill-color);\n",
              "    }\n",
              "    30% {\n",
              "      border-color: transparent;\n",
              "      border-left-color: var(--fill-color);\n",
              "      border-top-color: var(--fill-color);\n",
              "      border-right-color: var(--fill-color);\n",
              "    }\n",
              "    40% {\n",
              "      border-color: transparent;\n",
              "      border-right-color: var(--fill-color);\n",
              "      border-top-color: var(--fill-color);\n",
              "    }\n",
              "    60% {\n",
              "      border-color: transparent;\n",
              "      border-right-color: var(--fill-color);\n",
              "    }\n",
              "    80% {\n",
              "      border-color: transparent;\n",
              "      border-right-color: var(--fill-color);\n",
              "      border-bottom-color: var(--fill-color);\n",
              "    }\n",
              "    90% {\n",
              "      border-color: transparent;\n",
              "      border-bottom-color: var(--fill-color);\n",
              "    }\n",
              "  }\n",
              "</style>\n",
              "\n",
              "  <script>\n",
              "    async function quickchart(key) {\n",
              "      const quickchartButtonEl =\n",
              "        document.querySelector('#' + key + ' button');\n",
              "      quickchartButtonEl.disabled = true;  // To prevent multiple clicks.\n",
              "      quickchartButtonEl.classList.add('colab-df-spinner');\n",
              "      try {\n",
              "        const charts = await google.colab.kernel.invokeFunction(\n",
              "            'suggestCharts', [key], {});\n",
              "      } catch (error) {\n",
              "        console.error('Error during call to suggestCharts:', error);\n",
              "      }\n",
              "      quickchartButtonEl.classList.remove('colab-df-spinner');\n",
              "      quickchartButtonEl.classList.add('colab-df-quickchart-complete');\n",
              "    }\n",
              "    (() => {\n",
              "      let quickchartButtonEl =\n",
              "        document.querySelector('#df-cf86e2de-5d5b-411a-8c5f-73ab1f0a7018 button');\n",
              "      quickchartButtonEl.style.display =\n",
              "        google.colab.kernel.accessAllowed ? 'block' : 'none';\n",
              "    })();\n",
              "  </script>\n",
              "</div>\n",
              "\n",
              "  <div id=\"id_ca9b099c-70cf-46d7-ad7e-d1eb10b746d5\">\n",
              "    <style>\n",
              "      .colab-df-generate {\n",
              "        background-color: #E8F0FE;\n",
              "        border: none;\n",
              "        border-radius: 50%;\n",
              "        cursor: pointer;\n",
              "        display: none;\n",
              "        fill: #1967D2;\n",
              "        height: 32px;\n",
              "        padding: 0 0 0 0;\n",
              "        width: 32px;\n",
              "      }\n",
              "\n",
              "      .colab-df-generate:hover {\n",
              "        background-color: #E2EBFA;\n",
              "        box-shadow: 0px 1px 2px rgba(60, 64, 67, 0.3), 0px 1px 3px 1px rgba(60, 64, 67, 0.15);\n",
              "        fill: #174EA6;\n",
              "      }\n",
              "\n",
              "      [theme=dark] .colab-df-generate {\n",
              "        background-color: #3B4455;\n",
              "        fill: #D2E3FC;\n",
              "      }\n",
              "\n",
              "      [theme=dark] .colab-df-generate:hover {\n",
              "        background-color: #434B5C;\n",
              "        box-shadow: 0px 1px 3px 1px rgba(0, 0, 0, 0.15);\n",
              "        filter: drop-shadow(0px 1px 2px rgba(0, 0, 0, 0.3));\n",
              "        fill: #FFFFFF;\n",
              "      }\n",
              "    </style>\n",
              "    <button class=\"colab-df-generate\" onclick=\"generateWithVariable('eval_table')\"\n",
              "            title=\"Generate code using this dataframe.\"\n",
              "            style=\"display:none;\">\n",
              "\n",
              "  <svg xmlns=\"http://www.w3.org/2000/svg\" height=\"24px\"viewBox=\"0 0 24 24\"\n",
              "       width=\"24px\">\n",
              "    <path d=\"M7,19H8.4L18.45,9,17,7.55,7,17.6ZM5,21V16.75L18.45,3.32a2,2,0,0,1,2.83,0l1.4,1.43a1.91,1.91,0,0,1,.58,1.4,1.91,1.91,0,0,1-.58,1.4L9.25,21ZM18.45,9,17,7.55Zm-12,3A5.31,5.31,0,0,0,4.9,8.1,5.31,5.31,0,0,0,1,6.5,5.31,5.31,0,0,0,4.9,4.9,5.31,5.31,0,0,0,6.5,1,5.31,5.31,0,0,0,8.1,4.9,5.31,5.31,0,0,0,12,6.5,5.46,5.46,0,0,0,6.5,12Z\"/>\n",
              "  </svg>\n",
              "    </button>\n",
              "    <script>\n",
              "      (() => {\n",
              "      const buttonEl =\n",
              "        document.querySelector('#id_ca9b099c-70cf-46d7-ad7e-d1eb10b746d5 button.colab-df-generate');\n",
              "      buttonEl.style.display =\n",
              "        google.colab.kernel.accessAllowed ? 'block' : 'none';\n",
              "\n",
              "      buttonEl.onclick = () => {\n",
              "        google.colab.notebook.generateWithVariable('eval_table');\n",
              "      }\n",
              "      })();\n",
              "    </script>\n",
              "  </div>\n",
              "\n",
              "    </div>\n",
              "  </div>\n"
            ]
          },
          "metadata": {},
          "execution_count": 48
        }
      ],
      "source": [
        "evaluator = Learner(\n",
        "    fulltrain_dls, model,\n",
        "    loss_func=F.nll_loss, metrics=accuracy)\n",
        "train_res = evaluator.validate(0)\n",
        "test_res = evaluator.validate(1)\n",
        "\n",
        "eval_table = pd.DataFrame(\n",
        "    data=[train_res, test_res],\n",
        "    columns=[\"nll\", \"accuracy\"],\n",
        "    index=[\"train\", \"test\"])\n",
        "eval_table"
      ]
    },
    {
      "cell_type": "code",
      "execution_count": null,
      "metadata": {
        "id": "Rkquo7L_QRc1"
      },
      "outputs": [],
      "source": [
        "def save_experiment(name, config, model, eval_table, experiment_folder, overwrite=False):\n",
        "    folder = os.path.join(experiment_folder, name)\n",
        "    os.makedirs(folder, exist_ok=overwrite)\n",
        "\n",
        "    with open(os.path.join(folder, 'config.json'), \"w\") as cfg_file:\n",
        "        json.dump(config, cfg_file)\n",
        "\n",
        "    with open(os.path.join(folder, 'model_description.txt'), \"w\") as desc_file:\n",
        "        print(model, file=desc_file)\n",
        "        print(\"Number of parameters:\", count_parameters(model), file=desc_file)\n",
        "\n",
        "    shutil.copyfile('models/model.pth', os.path.join(folder, 'model.pth'))\n",
        "    shutil.copyfile('loss.png', os.path.join(folder, 'loss.png'))\n",
        "\n",
        "    eval_table.to_csv(os.path.join(folder, 'eval.csv'), index=False)\n",
        "\n",
        "\n",
        "save_experiment(\n",
        "    name=\"resnet_01\",\n",
        "    config=config,\n",
        "    model=model,\n",
        "    eval_table=eval_table,\n",
        "    experiment_folder='./drive/MyDrive/Projects/MiniSoundFinder/experiments/')"
      ]
    },
    {
      "cell_type": "markdown",
      "metadata": {
        "id": "0oj5gF-K8idO"
      },
      "source": [
        "# Prediction examples"
      ]
    },
    {
      "cell_type": "code",
      "execution_count": null,
      "metadata": {
        "colab": {
          "base_uri": "https://localhost:8080/"
        },
        "id": "_yxiSdcb8y4h",
        "outputId": "f60ab08b-b15c-4c5c-f86d-7edfa59a110b"
      },
      "outputs": [
        {
          "output_type": "execute_result",
          "data": {
            "text/plain": [
              "<All keys matched successfully>"
            ]
          },
          "metadata": {},
          "execution_count": 52
        }
      ],
      "source": [
        "weights = torch.load('models/model.pth', map_location=DEVICE)\n",
        "model = AudioResNet(input_channels=1, output_size=10, layers_args=layers_args).to(DEVICE)\n",
        "model.load_state_dict(weights, strict=True)"
      ]
    },
    {
      "cell_type": "code",
      "execution_count": null,
      "metadata": {
        "colab": {
          "base_uri": "https://localhost:8080/"
        },
        "id": "G1dnL-nFC-F-",
        "outputId": "6c2514bf-b8c2-4d16-a451-8add81bc0292"
      },
      "outputs": [
        {
          "output_type": "execute_result",
          "data": {
            "text/plain": [
              "{'audio': {'path': '188813-7-2-0.wav',\n",
              "  'array': array([-0.00010872,  0.00053692,  0.00116116, ...,  0.00086272,\n",
              "          0.00275093,  0.0031215 ]),\n",
              "  'sampling_rate': 96000},\n",
              " 'slice_file_name': '188813-7-2-0.wav',\n",
              " 'fsID': 188813,\n",
              " 'start': 6.203158,\n",
              " 'end': 7.753947,\n",
              " 'salience': 1,\n",
              " 'fold': 10,\n",
              " 'classID': 7,\n",
              " 'class': 'jackhammer'}"
            ]
          },
          "metadata": {},
          "execution_count": 53
        }
      ],
      "source": [
        "dataset['train'][4666]"
      ]
    },
    {
      "cell_type": "code",
      "execution_count": null,
      "metadata": {
        "colab": {
          "base_uri": "https://localhost:8080/"
        },
        "id": "-o-8Tu8SELS5",
        "outputId": "cfb20c92-885f-4a0d-e754-a8f833376707"
      },
      "outputs": [
        {
          "output_type": "execute_result",
          "data": {
            "text/plain": [
              "torch.Size([5, 1, 384000])"
            ]
          },
          "metadata": {},
          "execution_count": 54
        }
      ],
      "source": [
        "ind = [10, 21, 811, 1241, 4666]\n",
        "parts = []\n",
        "for i in ind:\n",
        "    wf = torch.tensor(dataset['train'][i]['audio']['array'], dtype=torch.float32)\n",
        "    pad_size = [0, MAX_LENGTH - wf.shape[0]]\n",
        "    wf_padded = F.pad(wf, pad=pad_size, mode='constant', value=0.0)\n",
        "    parts += [torch.unsqueeze(wf_padded, 0)]\n",
        "\n",
        "inp = torch.stack(parts).to(DEVICE)\n",
        "\n",
        "inp.shape"
      ]
    },
    {
      "cell_type": "code",
      "execution_count": null,
      "metadata": {
        "id": "1gxtEcXrD6qc"
      },
      "outputs": [],
      "source": [
        "pred = torch.exp(model(inp)).cpu().detach().numpy()"
      ]
    },
    {
      "cell_type": "code",
      "execution_count": null,
      "metadata": {
        "colab": {
          "base_uri": "https://localhost:8080/",
          "height": 363
        },
        "id": "jkMpmsQ5L7TG",
        "outputId": "b1c2f3c4-3fb1-436a-9a18-a01cae56b793"
      },
      "outputs": [
        {
          "output_type": "execute_result",
          "data": {
            "text/plain": [
              "                      10        21        811       1241      4666\n",
              "air_conditioner   0.011586  0.029470  0.206186  0.129121  0.021578\n",
              "car_horn          0.179588  0.001416  0.000872  0.041229  0.038613\n",
              "children_playing  0.172955  0.105506  0.001061  0.190011  0.049551\n",
              "dog_bark          0.047504  0.608268  0.000684  0.330214  0.026761\n",
              "drilling          0.160037  0.001832  0.063629  0.008414  0.571609\n",
              "engine_idling     0.029637  0.012021  0.064011  0.051849  0.006200\n",
              "gun_shot          0.019074  0.000008  0.000551  0.000227  0.000353\n",
              "jackhammer        0.305856  0.000055  0.389066  0.000436  0.267633\n",
              "siren             0.049234  0.179561  0.000664  0.192358  0.000111\n",
              "street_music      0.024529  0.061862  0.273276  0.056141  0.017592"
            ],
            "text/html": [
              "\n",
              "  <div id=\"df-3022451e-bfd1-49b7-b424-a87561c92cda\" class=\"colab-df-container\">\n",
              "    <div>\n",
              "<style scoped>\n",
              "    .dataframe tbody tr th:only-of-type {\n",
              "        vertical-align: middle;\n",
              "    }\n",
              "\n",
              "    .dataframe tbody tr th {\n",
              "        vertical-align: top;\n",
              "    }\n",
              "\n",
              "    .dataframe thead th {\n",
              "        text-align: right;\n",
              "    }\n",
              "</style>\n",
              "<table border=\"1\" class=\"dataframe\">\n",
              "  <thead>\n",
              "    <tr style=\"text-align: right;\">\n",
              "      <th></th>\n",
              "      <th>10</th>\n",
              "      <th>21</th>\n",
              "      <th>811</th>\n",
              "      <th>1241</th>\n",
              "      <th>4666</th>\n",
              "    </tr>\n",
              "  </thead>\n",
              "  <tbody>\n",
              "    <tr>\n",
              "      <th>air_conditioner</th>\n",
              "      <td>0.011586</td>\n",
              "      <td>0.029470</td>\n",
              "      <td>0.206186</td>\n",
              "      <td>0.129121</td>\n",
              "      <td>0.021578</td>\n",
              "    </tr>\n",
              "    <tr>\n",
              "      <th>car_horn</th>\n",
              "      <td>0.179588</td>\n",
              "      <td>0.001416</td>\n",
              "      <td>0.000872</td>\n",
              "      <td>0.041229</td>\n",
              "      <td>0.038613</td>\n",
              "    </tr>\n",
              "    <tr>\n",
              "      <th>children_playing</th>\n",
              "      <td>0.172955</td>\n",
              "      <td>0.105506</td>\n",
              "      <td>0.001061</td>\n",
              "      <td>0.190011</td>\n",
              "      <td>0.049551</td>\n",
              "    </tr>\n",
              "    <tr>\n",
              "      <th>dog_bark</th>\n",
              "      <td>0.047504</td>\n",
              "      <td>0.608268</td>\n",
              "      <td>0.000684</td>\n",
              "      <td>0.330214</td>\n",
              "      <td>0.026761</td>\n",
              "    </tr>\n",
              "    <tr>\n",
              "      <th>drilling</th>\n",
              "      <td>0.160037</td>\n",
              "      <td>0.001832</td>\n",
              "      <td>0.063629</td>\n",
              "      <td>0.008414</td>\n",
              "      <td>0.571609</td>\n",
              "    </tr>\n",
              "    <tr>\n",
              "      <th>engine_idling</th>\n",
              "      <td>0.029637</td>\n",
              "      <td>0.012021</td>\n",
              "      <td>0.064011</td>\n",
              "      <td>0.051849</td>\n",
              "      <td>0.006200</td>\n",
              "    </tr>\n",
              "    <tr>\n",
              "      <th>gun_shot</th>\n",
              "      <td>0.019074</td>\n",
              "      <td>0.000008</td>\n",
              "      <td>0.000551</td>\n",
              "      <td>0.000227</td>\n",
              "      <td>0.000353</td>\n",
              "    </tr>\n",
              "    <tr>\n",
              "      <th>jackhammer</th>\n",
              "      <td>0.305856</td>\n",
              "      <td>0.000055</td>\n",
              "      <td>0.389066</td>\n",
              "      <td>0.000436</td>\n",
              "      <td>0.267633</td>\n",
              "    </tr>\n",
              "    <tr>\n",
              "      <th>siren</th>\n",
              "      <td>0.049234</td>\n",
              "      <td>0.179561</td>\n",
              "      <td>0.000664</td>\n",
              "      <td>0.192358</td>\n",
              "      <td>0.000111</td>\n",
              "    </tr>\n",
              "    <tr>\n",
              "      <th>street_music</th>\n",
              "      <td>0.024529</td>\n",
              "      <td>0.061862</td>\n",
              "      <td>0.273276</td>\n",
              "      <td>0.056141</td>\n",
              "      <td>0.017592</td>\n",
              "    </tr>\n",
              "  </tbody>\n",
              "</table>\n",
              "</div>\n",
              "    <div class=\"colab-df-buttons\">\n",
              "\n",
              "  <div class=\"colab-df-container\">\n",
              "    <button class=\"colab-df-convert\" onclick=\"convertToInteractive('df-3022451e-bfd1-49b7-b424-a87561c92cda')\"\n",
              "            title=\"Convert this dataframe to an interactive table.\"\n",
              "            style=\"display:none;\">\n",
              "\n",
              "  <svg xmlns=\"http://www.w3.org/2000/svg\" height=\"24px\" viewBox=\"0 -960 960 960\">\n",
              "    <path d=\"M120-120v-720h720v720H120Zm60-500h600v-160H180v160Zm220 220h160v-160H400v160Zm0 220h160v-160H400v160ZM180-400h160v-160H180v160Zm440 0h160v-160H620v160ZM180-180h160v-160H180v160Zm440 0h160v-160H620v160Z\"/>\n",
              "  </svg>\n",
              "    </button>\n",
              "\n",
              "  <style>\n",
              "    .colab-df-container {\n",
              "      display:flex;\n",
              "      gap: 12px;\n",
              "    }\n",
              "\n",
              "    .colab-df-convert {\n",
              "      background-color: #E8F0FE;\n",
              "      border: none;\n",
              "      border-radius: 50%;\n",
              "      cursor: pointer;\n",
              "      display: none;\n",
              "      fill: #1967D2;\n",
              "      height: 32px;\n",
              "      padding: 0 0 0 0;\n",
              "      width: 32px;\n",
              "    }\n",
              "\n",
              "    .colab-df-convert:hover {\n",
              "      background-color: #E2EBFA;\n",
              "      box-shadow: 0px 1px 2px rgba(60, 64, 67, 0.3), 0px 1px 3px 1px rgba(60, 64, 67, 0.15);\n",
              "      fill: #174EA6;\n",
              "    }\n",
              "\n",
              "    .colab-df-buttons div {\n",
              "      margin-bottom: 4px;\n",
              "    }\n",
              "\n",
              "    [theme=dark] .colab-df-convert {\n",
              "      background-color: #3B4455;\n",
              "      fill: #D2E3FC;\n",
              "    }\n",
              "\n",
              "    [theme=dark] .colab-df-convert:hover {\n",
              "      background-color: #434B5C;\n",
              "      box-shadow: 0px 1px 3px 1px rgba(0, 0, 0, 0.15);\n",
              "      filter: drop-shadow(0px 1px 2px rgba(0, 0, 0, 0.3));\n",
              "      fill: #FFFFFF;\n",
              "    }\n",
              "  </style>\n",
              "\n",
              "    <script>\n",
              "      const buttonEl =\n",
              "        document.querySelector('#df-3022451e-bfd1-49b7-b424-a87561c92cda button.colab-df-convert');\n",
              "      buttonEl.style.display =\n",
              "        google.colab.kernel.accessAllowed ? 'block' : 'none';\n",
              "\n",
              "      async function convertToInteractive(key) {\n",
              "        const element = document.querySelector('#df-3022451e-bfd1-49b7-b424-a87561c92cda');\n",
              "        const dataTable =\n",
              "          await google.colab.kernel.invokeFunction('convertToInteractive',\n",
              "                                                    [key], {});\n",
              "        if (!dataTable) return;\n",
              "\n",
              "        const docLinkHtml = 'Like what you see? Visit the ' +\n",
              "          '<a target=\"_blank\" href=https://colab.research.google.com/notebooks/data_table.ipynb>data table notebook</a>'\n",
              "          + ' to learn more about interactive tables.';\n",
              "        element.innerHTML = '';\n",
              "        dataTable['output_type'] = 'display_data';\n",
              "        await google.colab.output.renderOutput(dataTable, element);\n",
              "        const docLink = document.createElement('div');\n",
              "        docLink.innerHTML = docLinkHtml;\n",
              "        element.appendChild(docLink);\n",
              "      }\n",
              "    </script>\n",
              "  </div>\n",
              "\n",
              "\n",
              "<div id=\"df-3e3c8505-cd42-4a83-ae71-6c9d8067da0a\">\n",
              "  <button class=\"colab-df-quickchart\" onclick=\"quickchart('df-3e3c8505-cd42-4a83-ae71-6c9d8067da0a')\"\n",
              "            title=\"Suggest charts\"\n",
              "            style=\"display:none;\">\n",
              "\n",
              "<svg xmlns=\"http://www.w3.org/2000/svg\" height=\"24px\"viewBox=\"0 0 24 24\"\n",
              "     width=\"24px\">\n",
              "    <g>\n",
              "        <path d=\"M19 3H5c-1.1 0-2 .9-2 2v14c0 1.1.9 2 2 2h14c1.1 0 2-.9 2-2V5c0-1.1-.9-2-2-2zM9 17H7v-7h2v7zm4 0h-2V7h2v10zm4 0h-2v-4h2v4z\"/>\n",
              "    </g>\n",
              "</svg>\n",
              "  </button>\n",
              "\n",
              "<style>\n",
              "  .colab-df-quickchart {\n",
              "      --bg-color: #E8F0FE;\n",
              "      --fill-color: #1967D2;\n",
              "      --hover-bg-color: #E2EBFA;\n",
              "      --hover-fill-color: #174EA6;\n",
              "      --disabled-fill-color: #AAA;\n",
              "      --disabled-bg-color: #DDD;\n",
              "  }\n",
              "\n",
              "  [theme=dark] .colab-df-quickchart {\n",
              "      --bg-color: #3B4455;\n",
              "      --fill-color: #D2E3FC;\n",
              "      --hover-bg-color: #434B5C;\n",
              "      --hover-fill-color: #FFFFFF;\n",
              "      --disabled-bg-color: #3B4455;\n",
              "      --disabled-fill-color: #666;\n",
              "  }\n",
              "\n",
              "  .colab-df-quickchart {\n",
              "    background-color: var(--bg-color);\n",
              "    border: none;\n",
              "    border-radius: 50%;\n",
              "    cursor: pointer;\n",
              "    display: none;\n",
              "    fill: var(--fill-color);\n",
              "    height: 32px;\n",
              "    padding: 0;\n",
              "    width: 32px;\n",
              "  }\n",
              "\n",
              "  .colab-df-quickchart:hover {\n",
              "    background-color: var(--hover-bg-color);\n",
              "    box-shadow: 0 1px 2px rgba(60, 64, 67, 0.3), 0 1px 3px 1px rgba(60, 64, 67, 0.15);\n",
              "    fill: var(--button-hover-fill-color);\n",
              "  }\n",
              "\n",
              "  .colab-df-quickchart-complete:disabled,\n",
              "  .colab-df-quickchart-complete:disabled:hover {\n",
              "    background-color: var(--disabled-bg-color);\n",
              "    fill: var(--disabled-fill-color);\n",
              "    box-shadow: none;\n",
              "  }\n",
              "\n",
              "  .colab-df-spinner {\n",
              "    border: 2px solid var(--fill-color);\n",
              "    border-color: transparent;\n",
              "    border-bottom-color: var(--fill-color);\n",
              "    animation:\n",
              "      spin 1s steps(1) infinite;\n",
              "  }\n",
              "\n",
              "  @keyframes spin {\n",
              "    0% {\n",
              "      border-color: transparent;\n",
              "      border-bottom-color: var(--fill-color);\n",
              "      border-left-color: var(--fill-color);\n",
              "    }\n",
              "    20% {\n",
              "      border-color: transparent;\n",
              "      border-left-color: var(--fill-color);\n",
              "      border-top-color: var(--fill-color);\n",
              "    }\n",
              "    30% {\n",
              "      border-color: transparent;\n",
              "      border-left-color: var(--fill-color);\n",
              "      border-top-color: var(--fill-color);\n",
              "      border-right-color: var(--fill-color);\n",
              "    }\n",
              "    40% {\n",
              "      border-color: transparent;\n",
              "      border-right-color: var(--fill-color);\n",
              "      border-top-color: var(--fill-color);\n",
              "    }\n",
              "    60% {\n",
              "      border-color: transparent;\n",
              "      border-right-color: var(--fill-color);\n",
              "    }\n",
              "    80% {\n",
              "      border-color: transparent;\n",
              "      border-right-color: var(--fill-color);\n",
              "      border-bottom-color: var(--fill-color);\n",
              "    }\n",
              "    90% {\n",
              "      border-color: transparent;\n",
              "      border-bottom-color: var(--fill-color);\n",
              "    }\n",
              "  }\n",
              "</style>\n",
              "\n",
              "  <script>\n",
              "    async function quickchart(key) {\n",
              "      const quickchartButtonEl =\n",
              "        document.querySelector('#' + key + ' button');\n",
              "      quickchartButtonEl.disabled = true;  // To prevent multiple clicks.\n",
              "      quickchartButtonEl.classList.add('colab-df-spinner');\n",
              "      try {\n",
              "        const charts = await google.colab.kernel.invokeFunction(\n",
              "            'suggestCharts', [key], {});\n",
              "      } catch (error) {\n",
              "        console.error('Error during call to suggestCharts:', error);\n",
              "      }\n",
              "      quickchartButtonEl.classList.remove('colab-df-spinner');\n",
              "      quickchartButtonEl.classList.add('colab-df-quickchart-complete');\n",
              "    }\n",
              "    (() => {\n",
              "      let quickchartButtonEl =\n",
              "        document.querySelector('#df-3e3c8505-cd42-4a83-ae71-6c9d8067da0a button');\n",
              "      quickchartButtonEl.style.display =\n",
              "        google.colab.kernel.accessAllowed ? 'block' : 'none';\n",
              "    })();\n",
              "  </script>\n",
              "</div>\n",
              "\n",
              "    </div>\n",
              "  </div>\n"
            ]
          },
          "metadata": {},
          "execution_count": 56
        }
      ],
      "source": [
        "classes = [\n",
        "    'air_conditioner', 'car_horn', 'children_playing', 'dog_bark', 'drilling',\n",
        "    'engine_idling', 'gun_shot', 'jackhammer', 'siren', 'street_music']\n",
        "\n",
        "pd.DataFrame(data=pred, columns=classes, index=ind).T"
      ]
    },
    {
      "cell_type": "code",
      "execution_count": null,
      "metadata": {
        "colab": {
          "base_uri": "https://localhost:8080/"
        },
        "id": "UZkj66EWMtMe",
        "outputId": "85234fe2-8a06-4415-dc1f-ee873f07c3f3"
      },
      "outputs": [
        {
          "output_type": "stream",
          "name": "stdout",
          "text": [
            "10\n",
            "100648-1-1-0.wav\n",
            "car_horn\n",
            "\n",
            "21\n",
            "100795-3-1-2.wav\n",
            "dog_bark\n",
            "\n",
            "811\n",
            "115418-9-0-20.wav\n",
            "street_music\n",
            "\n",
            "1241\n",
            "129750-2-0-46.wav\n",
            "children_playing\n",
            "\n",
            "4666\n",
            "188813-7-2-0.wav\n",
            "jackhammer\n",
            "\n"
          ]
        }
      ],
      "source": [
        "for i in ind:\n",
        "    print(i)\n",
        "    print(dataset['train'][i]['audio']['path'])\n",
        "    print(dataset['train'][i]['class'])\n",
        "    print()"
      ]
    },
    {
      "cell_type": "markdown",
      "metadata": {
        "id": "iypEq-uoAdHV"
      },
      "source": [
        "Listen to samples here:\n",
        "https://www.kaggle.com/datasets/chrisfilo/urbansound8k"
      ]
    },
    {
      "cell_type": "markdown",
      "metadata": {
        "id": "zmZa8D77rfuH"
      },
      "source": [
        "# Info"
      ]
    },
    {
      "cell_type": "markdown",
      "metadata": {
        "id": "mSNIw0F_fMMo"
      },
      "source": [
        "**Ref**\n",
        "\n",
        "https://pytorch.org/tutorials/intermediate/speech_command_recognition_with_torchaudio.html\n",
        "\n",
        "https://wandb.ai/amanarora/Written-Reports/reports/Understanding-ResNets-A-Deep-Dive-into-Residual-Networks-with-PyTorch--Vmlldzo1MDAxMTk5#creating-the-model\n",
        "\n",
        "https://paperswithcode.com/sota/environmental-sound-classification-on"
      ]
    },
    {
      "cell_type": "code",
      "execution_count": null,
      "metadata": {
        "id": "K8KQXbQcYyZD"
      },
      "outputs": [],
      "source": []
    }
  ],
  "metadata": {
    "accelerator": "GPU",
    "colab": {
      "collapsed_sections": [
        "OMZrXkD2nk9T",
        "9uAxQfaonySM",
        "VNQ1cTjHMknR",
        "bsH1KqjulC0x",
        "dv_sTbR4qily",
        "UlSzjljxlFUJ",
        "iMQgzwtZ-FBU",
        "VxCGm84R1ELi",
        "2r-8S9w31M1b"
      ],
      "provenance": []
    },
    "kernelspec": {
      "display_name": "Python 3",
      "name": "python3"
    },
    "language_info": {
      "name": "python"
    }
  },
  "nbformat": 4,
  "nbformat_minor": 0
}