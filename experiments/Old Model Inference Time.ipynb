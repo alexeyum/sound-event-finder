{
 "cells": [
  {
   "cell_type": "code",
   "execution_count": null,
   "metadata": {
    "id": "CM0xUzxcrztF"
   },
   "outputs": [],
   "source": [
    "import os.path\n",
    "\n",
    "import torch\n",
    "import torch.nn as nn\n",
    "from torch.utils.mobile_optimizer import optimize_for_mobile"
   ]
  },
  {
   "cell_type": "code",
   "execution_count": null,
   "metadata": {
    "id": "z6Ro5qEGUi9L"
   },
   "outputs": [],
   "source": [
    "import sys\n",
    "sys.path.append('./drive/MyDrive/Projects/MiniSoundFinder/lib/')\n",
    "\n",
    "import classifiers"
   ]
  },
  {
   "cell_type": "code",
   "execution_count": null,
   "metadata": {
    "colab": {
     "base_uri": "https://localhost:8080/"
    },
    "id": "fj40Gsztr2uE",
    "outputId": "e68890b5-46eb-49a7-e3b4-439b4a5301f1"
   },
   "outputs": [],
   "source": [
    "experiment_path = './drive/MyDrive/Projects/MiniSoundFinder/experiments/basic_convnet_01'\n",
    "\n",
    "model = classifiers.BasicConvNet(input_channels=1, output_size=10)\n",
    "weights_path = os.path.join(experiment_path, 'model.pth')\n",
    "model.load_state_dict(torch.load(weights_path, map_location=torch.device(\"cpu\")))\n",
    "model.eval()"
   ]
  },
  {
   "cell_type": "markdown",
   "metadata": {
    "id": "dfKRCKClWhKs"
   },
   "source": [
    "### Inference speed"
   ]
  },
  {
   "cell_type": "code",
   "execution_count": null,
   "metadata": {
    "colab": {
     "base_uri": "https://localhost:8080/"
    },
    "id": "f_k-ZHTY3-1Q",
    "outputId": "01d83655-fbd6-4607-824c-f41e0deee1cb"
   },
   "outputs": [],
   "source": [
    "%%time\n",
    "\n",
    "for i in range(1000):\n",
    "    inp = torch.distributions.uniform.Uniform(-10000, 10000).sample((1, 1, MAX_LENGTH))\n",
    "    out = model(inp)"
   ]
  },
  {
   "cell_type": "code",
   "execution_count": null,
   "metadata": {
    "colab": {
     "base_uri": "https://localhost:8080/"
    },
    "id": "nm-PCqXoWtiY",
    "outputId": "3d2cb1a6-d8e0-4e3e-d3de-e7c8253fb81a"
   },
   "outputs": [],
   "source": [
    "# time collected from mobile samples\n",
    "t = [0.96, 0.3, 0.6, 0.17]\n",
    "print(sum(t) / len(t))"
   ]
  },
  {
   "cell_type": "markdown",
   "metadata": {
    "id": "gKzLmcEpW8SV"
   },
   "source": [
    "- Average inference time GPU: 0.006 sec/sample\n",
    "- Average inference time mobile: 0.5 sec/sample\n",
    "- Approximate mobile slowdown: x100"
   ]
  },
  {
   "cell_type": "code",
   "execution_count": null,
   "metadata": {
    "id": "CQKgkhi3XsaB"
   },
   "outputs": [],
   "source": []
  }
 ],
 "metadata": {
  "colab": {
   "provenance": []
  },
  "kernelspec": {
   "display_name": "Python 3 (ipykernel)",
   "language": "python",
   "name": "python3"
  },
  "language_info": {
   "codemirror_mode": {
    "name": "ipython",
    "version": 3
   },
   "file_extension": ".py",
   "mimetype": "text/x-python",
   "name": "python",
   "nbconvert_exporter": "python",
   "pygments_lexer": "ipython3",
   "version": "3.11.7"
  }
 },
 "nbformat": 4,
 "nbformat_minor": 4
}
