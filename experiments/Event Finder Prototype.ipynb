{
 "cells": [
  {
   "cell_type": "markdown",
   "metadata": {
    "id": "9Q6hZo0vxpR5"
   },
   "source": [
    "Reference\n",
    "\n",
    "- [AudioSet](https://research.google.com/audioset/)"
   ]
  },
  {
   "cell_type": "markdown",
   "metadata": {
    "id": "fbXG0AOBD7au"
   },
   "source": [
    "More model ideas\n",
    "\n",
    "- Other (smaller) versions of AST\n",
    "\n",
    "- https://huggingface.co/topel/ConvNeXt-Tiny-AT\n",
    "\n",
    "- https://huggingface.co/search/full-text?q=audioset&p=1&type=model\n",
    "\n",
    "- https://paperswithcode.com/paper/efficient-large-scale-audio-tagging-via\n",
    "\n",
    "- https://paperswithcode.com/paper/dynamic-convolutional-neural-networks-as\n",
    "\n",
    "- https://paperswithcode.com/paper/panns-large-scale-pretrained-audio-neural-1"
   ]
  },
  {
   "cell_type": "markdown",
   "metadata": {
    "id": "OkiYq093brGT"
   },
   "source": [
    "# Imports, installs, etc."
   ]
  },
  {
   "cell_type": "code",
   "execution_count": null,
   "metadata": {
    "executionInfo": {
     "elapsed": 24555,
     "status": "ok",
     "timestamp": 1718627377465,
     "user": {
      "displayName": "Alexey Umnov",
      "userId": "05815039600690784543"
     },
     "user_tz": -240
    },
    "id": "Jry1D7yIY8i0"
   },
   "outputs": [],
   "source": [
    "!pip install -qq transformers"
   ]
  },
  {
   "cell_type": "code",
   "execution_count": null,
   "metadata": {
    "executionInfo": {
     "elapsed": 14054,
     "status": "ok",
     "timestamp": 1718627391514,
     "user": {
      "displayName": "Alexey Umnov",
      "userId": "05815039600690784543"
     },
     "user_tz": -240
    },
    "id": "gMrpkwooZioF"
   },
   "outputs": [],
   "source": [
    "import requests\n",
    "import sys\n",
    "import time\n",
    "\n",
    "import numpy as np\n",
    "\n",
    "from tqdm.notebook import tqdm\n",
    "\n",
    "import torch\n",
    "import torchaudio"
   ]
  },
  {
   "cell_type": "code",
   "execution_count": null,
   "metadata": {
    "colab": {
     "base_uri": "https://localhost:8080/"
    },
    "executionInfo": {
     "elapsed": 10,
     "status": "ok",
     "timestamp": 1718627391514,
     "user": {
      "displayName": "Alexey Umnov",
      "userId": "05815039600690784543"
     },
     "user_tz": -240
    },
    "id": "oxHmq2dqzTFO",
    "outputId": "faa5017a-f031-44fc-e76c-4e550efe456f"
   },
   "outputs": [],
   "source": [
    "DEVICE = torch.device(\"cuda\" if torch.cuda.is_available() else \"cpu\")\n",
    "print(DEVICE)"
   ]
  },
  {
   "cell_type": "code",
   "execution_count": null,
   "metadata": {
    "executionInfo": {
     "elapsed": 6,
     "status": "ok",
     "timestamp": 1718627391515,
     "user": {
      "displayName": "Alexey Umnov",
      "userId": "05815039600690784543"
     },
     "user_tz": -240
    },
    "id": "Hs8pl0UgTGuq"
   },
   "outputs": [],
   "source": [
    "sys.path.append('./drive/MyDrive/Projects/MiniSoundFinder_v2/model/library/')\n",
    "\n",
    "import event_finder, preprocess"
   ]
  },
  {
   "cell_type": "code",
   "execution_count": null,
   "metadata": {
    "executionInfo": {
     "elapsed": 6,
     "status": "ok",
     "timestamp": 1718627391516,
     "user": {
      "displayName": "Alexey Umnov",
      "userId": "05815039600690784543"
     },
     "user_tz": -240
    },
    "id": "IG2M5fUWUZID"
   },
   "outputs": [],
   "source": [
    "# from importlib import reload\n",
    "# reload(event_finder)"
   ]
  },
  {
   "cell_type": "markdown",
   "metadata": {
    "id": "YqNHI9Cl_Jz_"
   },
   "source": [
    "# Samples"
   ]
  },
  {
   "cell_type": "code",
   "execution_count": null,
   "metadata": {
    "executionInfo": {
     "elapsed": 905,
     "status": "ok",
     "timestamp": 1718627392415,
     "user": {
      "displayName": "Alexey Umnov",
      "userId": "05815039600690784543"
     },
     "user_tz": -240
    },
    "id": "rstRJBCzaWfm"
   },
   "outputs": [],
   "source": [
    "!cp ./drive/MyDrive/Projects/MiniSoundFinder_v2/samples/* ."
   ]
  },
  {
   "cell_type": "code",
   "execution_count": null,
   "metadata": {
    "colab": {
     "base_uri": "https://localhost:8080/"
    },
    "executionInfo": {
     "elapsed": 479,
     "status": "ok",
     "timestamp": 1718627392892,
     "user": {
      "displayName": "Alexey Umnov",
      "userId": "05815039600690784543"
     },
     "user_tz": -240
    },
    "id": "2jjTHE1kbd0Y",
    "outputId": "f18d44dd-ef75-4715-8299-eff5961b1cd6"
   },
   "outputs": [],
   "source": [
    "sample_path = 'freesound_442485_dogs_barking_60sec.wav'\n",
    "print(torchaudio.info(sample_path))"
   ]
  },
  {
   "cell_type": "code",
   "execution_count": null,
   "metadata": {
    "colab": {
     "base_uri": "https://localhost:8080/"
    },
    "executionInfo": {
     "elapsed": 4,
     "status": "ok",
     "timestamp": 1718627392893,
     "user": {
      "displayName": "Alexey Umnov",
      "userId": "05815039600690784543"
     },
     "user_tz": -240
    },
    "id": "I3B450xZb0z3",
    "outputId": "e7cee90d-2998-4ea7-a178-190c67485367"
   },
   "outputs": [],
   "source": [
    "waveform, sampling_rate = torchaudio.load(sample_path)\n",
    "waveform.shape"
   ]
  },
  {
   "cell_type": "code",
   "execution_count": null,
   "metadata": {
    "colab": {
     "base_uri": "https://localhost:8080/"
    },
    "executionInfo": {
     "elapsed": 1185,
     "status": "ok",
     "timestamp": 1718627394075,
     "user": {
      "displayName": "Alexey Umnov",
      "userId": "05815039600690784543"
     },
     "user_tz": -240
    },
    "id": "0OSwwkRieBsB",
    "outputId": "80009967-faf3-492d-c630-8c09418cd46b"
   },
   "outputs": [],
   "source": [
    "wf_prep = preprocess.convert_audio(waveform, sampling_rate)\n",
    "wf_prep.shape"
   ]
  },
  {
   "cell_type": "markdown",
   "metadata": {
    "id": "PyeBiD3Vbvor"
   },
   "source": [
    "# Models"
   ]
  },
  {
   "cell_type": "markdown",
   "metadata": {
    "id": "4iG8YpP_Cg1t"
   },
   "source": [
    "## AST"
   ]
  },
  {
   "cell_type": "markdown",
   "metadata": {
    "id": "nJ4iICl6Chyp"
   },
   "source": [
    "- [AST on HuggingFace](https://huggingface.co/MIT/ast-finetuned-audioset-10-10-0.4593)\n",
    "\n",
    "- [AST Paper](https://arxiv.org/pdf/2104.01778.pdf)"
   ]
  },
  {
   "cell_type": "code",
   "execution_count": null,
   "metadata": {
    "executionInfo": {
     "elapsed": 3582,
     "status": "ok",
     "timestamp": 1718627397654,
     "user": {
      "displayName": "Alexey Umnov",
      "userId": "05815039600690784543"
     },
     "user_tz": -240
    },
    "id": "RUjCAaucCxj-"
   },
   "outputs": [],
   "source": [
    "from transformers import AutoFeatureExtractor, ASTForAudioClassification"
   ]
  },
  {
   "cell_type": "code",
   "execution_count": null,
   "metadata": {
    "colab": {
     "base_uri": "https://localhost:8080/"
    },
    "executionInfo": {
     "elapsed": 1456,
     "status": "ok",
     "timestamp": 1718627399105,
     "user": {
      "displayName": "Alexey Umnov",
      "userId": "05815039600690784543"
     },
     "user_tz": -240
    },
    "id": "9lIQe-CVZo7_",
    "outputId": "23845bf8-6320-4680-e203-f34f090cdbb4"
   },
   "outputs": [],
   "source": [
    "extractor_ast = AutoFeatureExtractor.from_pretrained(\"MIT/ast-finetuned-audioset-10-10-0.4593\")\n",
    "extractor_ast"
   ]
  },
  {
   "cell_type": "code",
   "execution_count": null,
   "metadata": {
    "colab": {
     "base_uri": "https://localhost:8080/"
    },
    "executionInfo": {
     "elapsed": 3493,
     "status": "ok",
     "timestamp": 1718627402596,
     "user": {
      "displayName": "Alexey Umnov",
      "userId": "05815039600690784543"
     },
     "user_tz": -240
    },
    "id": "ZETaSypVbBHl",
    "outputId": "75d822d1-bfe2-42a3-81aa-39f228569065"
   },
   "outputs": [],
   "source": [
    "model_ast = ASTForAudioClassification.from_pretrained(\"MIT/ast-finetuned-audioset-10-10-0.4593\").to(DEVICE)\n",
    "model_ast"
   ]
  },
  {
   "cell_type": "code",
   "execution_count": null,
   "metadata": {
    "colab": {
     "base_uri": "https://localhost:8080/"
    },
    "executionInfo": {
     "elapsed": 492,
     "status": "ok",
     "timestamp": 1718627403084,
     "user": {
      "displayName": "Alexey Umnov",
      "userId": "05815039600690784543"
     },
     "user_tz": -240
    },
    "id": "M5dFfpx5cUD7",
    "outputId": "16506f53-f3b2-4f6e-c79d-1de42ba5d6f9"
   },
   "outputs": [],
   "source": [
    "target_sampling_rate = extractor_ast.sampling_rate\n",
    "wf_prep = preprocess.convert_audio(waveform, sampling_rate, sampling_rate=target_sampling_rate)\n",
    "sample_features = extractor_ast(wf_prep, target_sampling_rate, return_tensors=\"pt\").to(DEVICE)\n",
    "sample_features['input_values'].shape"
   ]
  },
  {
   "cell_type": "code",
   "execution_count": null,
   "metadata": {
    "executionInfo": {
     "elapsed": 10705,
     "status": "ok",
     "timestamp": 1718627413786,
     "user": {
      "displayName": "Alexey Umnov",
      "userId": "05815039600690784543"
     },
     "user_tz": -240
    },
    "id": "uiE_guEFeh_D"
   },
   "outputs": [],
   "source": [
    "with torch.no_grad():\n",
    "    probs = torch.sigmoid(model_ast(**sample_features).logits)"
   ]
  },
  {
   "cell_type": "code",
   "execution_count": null,
   "metadata": {
    "colab": {
     "base_uri": "https://localhost:8080/"
    },
    "executionInfo": {
     "elapsed": 16,
     "status": "ok",
     "timestamp": 1718627413787,
     "user": {
      "displayName": "Alexey Umnov",
      "userId": "05815039600690784543"
     },
     "user_tz": -240
    },
    "id": "7jY7kN_2exFT",
    "outputId": "7db846df-9ea2-4921-b24f-95a5fafccaf6"
   },
   "outputs": [],
   "source": [
    "top_classes = torch.argsort(probs, dim=-1, descending=True).flatten()[:10]\n",
    "top_labels = [(model_ast.config.id2label[id.item()], probs[0, id].item()) for id in top_classes]\n",
    "top_labels"
   ]
  },
  {
   "cell_type": "code",
   "execution_count": null,
   "metadata": {
    "executionInfo": {
     "elapsed": 8,
     "status": "ok",
     "timestamp": 1718627413787,
     "user": {
      "displayName": "Alexey Umnov",
      "userId": "05815039600690784543"
     },
     "user_tz": -240
    },
    "id": "nVZJUmKlMiI7"
   },
   "outputs": [],
   "source": [
    "def measure_inference_time_ast(model, feature_extractor,\n",
    "                               sample_length_sec=60,\n",
    "                               repeats=10,\n",
    "                               chunk_length_sec=10):\n",
    "\n",
    "    sampling_rate = feature_extractor.sampling_rate\n",
    "    sample_length = sampling_rate * sample_length_sec\n",
    "\n",
    "    extr_times = []\n",
    "    inf_times = []\n",
    "    for i in tqdm(range(repeats)):\n",
    "        extr_start = time.time()\n",
    "        wf = torch.distributions.uniform.Uniform(-10000, 10000).sample((sample_length,))\n",
    "        chunks = event_finder.chunk_audio(wf, sampling_rate, chunk_length_sec)\n",
    "        inp = feature_extractor(chunks, sampling_rate, return_tensors=\"pt\").to(DEVICE)\n",
    "        extr_times.append(time.time() - extr_start)\n",
    "\n",
    "        inf_start = time.time()\n",
    "        with torch.no_grad():\n",
    "            probs = torch.sigmoid(model(**inp).logits)\n",
    "        inf_times.append(time.time() - inf_start)\n",
    "\n",
    "    print(\"Extraction:\", np.mean(extr_times), \"±\", np.std(extr_times))\n",
    "    print(\"Inference:\", np.mean(inf_times), \"±\", np.std(inf_times))\n",
    "\n",
    "# print(\"1 minute\")\n",
    "# measure_inference_time_ast(model_ast, extractor_ast, sample_length_sec=60)\n",
    "# print()\n",
    "\n",
    "# print(\"2 minutes\")\n",
    "# measure_inference_time_ast(model_ast, extractor_ast, sample_length_sec=120)\n",
    "# print()\n",
    "\n",
    "# print(\"5 minutes\")\n",
    "# measure_inference_time_ast(model_ast, extractor_ast, sample_length_sec=300)\n",
    "# print()"
   ]
  },
  {
   "cell_type": "markdown",
   "metadata": {
    "id": "wNbL8N75CmhN"
   },
   "source": [
    "## AST Distilled"
   ]
  },
  {
   "cell_type": "markdown",
   "metadata": {
    "id": "_cLUTmp4D4CD"
   },
   "source": [
    "https://huggingface.co/bookbot/distil-ast-audioset"
   ]
  },
  {
   "cell_type": "code",
   "execution_count": null,
   "metadata": {
    "colab": {
     "base_uri": "https://localhost:8080/"
    },
    "executionInfo": {
     "elapsed": 8,
     "status": "ok",
     "timestamp": 1718627413788,
     "user": {
      "displayName": "Alexey Umnov",
      "userId": "05815039600690784543"
     },
     "user_tz": -240
    },
    "id": "A9ci69tKRiBb",
    "outputId": "1d8d4b1d-d145-4e64-c4fe-068a111188ae"
   },
   "outputs": [],
   "source": [
    "extractor_ast_distil = AutoFeatureExtractor.from_pretrained(\"bookbot/distil-ast-audioset\")\n",
    "extractor_ast_distil"
   ]
  },
  {
   "cell_type": "code",
   "execution_count": null,
   "metadata": {
    "colab": {
     "base_uri": "https://localhost:8080/"
    },
    "executionInfo": {
     "elapsed": 446,
     "status": "ok",
     "timestamp": 1718627414227,
     "user": {
      "displayName": "Alexey Umnov",
      "userId": "05815039600690784543"
     },
     "user_tz": -240
    },
    "id": "ExztmUmGCrBv",
    "outputId": "b5445e3d-c93f-4d68-d5a6-c0ce993d76df"
   },
   "outputs": [],
   "source": [
    "model_ast_distil = ASTForAudioClassification.from_pretrained(\"bookbot/distil-ast-audioset\").to(DEVICE)\n",
    "model_ast_distil"
   ]
  },
  {
   "cell_type": "code",
   "execution_count": null,
   "metadata": {
    "colab": {
     "base_uri": "https://localhost:8080/"
    },
    "executionInfo": {
     "elapsed": 3467,
     "status": "ok",
     "timestamp": 1718627417694,
     "user": {
      "displayName": "Alexey Umnov",
      "userId": "05815039600690784543"
     },
     "user_tz": -240
    },
    "id": "L37gqz9xMVoW",
    "outputId": "8eb149b0-4da3-4563-ff5e-c886d3331f2e"
   },
   "outputs": [],
   "source": [
    "target_sampling_rate = extractor_ast_distil.sampling_rate\n",
    "wf_prep = preprocess.convert_audio(waveform, sampling_rate, sampling_rate=target_sampling_rate)\n",
    "sample_features = extractor_ast_distil(wf_prep, target_sampling_rate, return_tensors=\"pt\").to(DEVICE)\n",
    "\n",
    "with torch.no_grad():\n",
    "    probs = torch.sigmoid(model_ast_distil(**sample_features).logits)\n",
    "\n",
    "top_classes = torch.argsort(probs, dim=-1, descending=True).flatten()[:10]\n",
    "top_labels = [(model_ast.config.id2label[id.item()], probs[0, id].item()) for id in top_classes]\n",
    "top_labels"
   ]
  },
  {
   "cell_type": "code",
   "execution_count": null,
   "metadata": {
    "executionInfo": {
     "elapsed": 12,
     "status": "ok",
     "timestamp": 1718627417695,
     "user": {
      "displayName": "Alexey Umnov",
      "userId": "05815039600690784543"
     },
     "user_tz": -240
    },
    "id": "vT0hsFaORYlO"
   },
   "outputs": [],
   "source": [
    "# print(\"1 minute\")\n",
    "# measure_inference_time_ast(model_ast_distil, extractor_ast_distil, sample_length_sec=60)\n",
    "# print()\n",
    "\n",
    "# print(\"2 minutes\")\n",
    "# measure_inference_time_ast(model_ast_distil, extractor_ast_distil, sample_length_sec=120)\n",
    "# print()\n",
    "\n",
    "# print(\"5 minutes\")\n",
    "# measure_inference_time_ast(model_ast_distil, extractor_ast_distil, sample_length_sec=300)\n",
    "# print()"
   ]
  },
  {
   "cell_type": "markdown",
   "metadata": {
    "id": "PE5BmHwm0Wxz"
   },
   "source": [
    "# Finding events"
   ]
  },
  {
   "cell_type": "code",
   "execution_count": null,
   "metadata": {
    "executionInfo": {
     "elapsed": 10,
     "status": "ok",
     "timestamp": 1718627417695,
     "user": {
      "displayName": "Alexey Umnov",
      "userId": "05815039600690784543"
     },
     "user_tz": -240
    },
    "id": "CAvblT6HU3xg"
   },
   "outputs": [],
   "source": []
  },
  {
   "cell_type": "code",
   "execution_count": null,
   "metadata": {
    "executionInfo": {
     "elapsed": 10,
     "status": "ok",
     "timestamp": 1718627417695,
     "user": {
      "displayName": "Alexey Umnov",
      "userId": "05815039600690784543"
     },
     "user_tz": -240
    },
    "id": "wRY-Yz5xUz-B"
   },
   "outputs": [],
   "source": [
    "# NOTE: library usage here is outdated\n",
    "\n",
    "model = model_ast\n",
    "extractor = extractor_ast\n",
    "chunk_length_sec = 10\n",
    "sampling_rate = extractor.sampling_rate\n",
    "\n",
    "finder = event_finder.EventFinder(\n",
    "    model.config,\n",
    "    chunk_length_sec=chunk_length_sec,\n",
    "    probability_threshold=0.2)\n",
    "\n",
    "def find_events(audio_path):\n",
    "    waveform_raw, source_sampling_rate = torchaudio.load(audio_path)\n",
    "    waveform = preprocess.convert_audio(waveform_raw, source_sampling_rate,\n",
    "                                        channels=\"mono\", sampling_rate=sampling_rate)\n",
    "    chunks = event_finder.chunk_audio(waveform, sampling_rate, chunk_length_sec=chunk_length_sec)\n",
    "\n",
    "    features = extractor(chunks, sampling_rate, return_tensors=\"pt\").to(DEVICE)\n",
    "\n",
    "    with torch.no_grad():\n",
    "        probs = torch.sigmoid(model(**features).logits)\n",
    "\n",
    "    events = finder(probs)\n",
    "    return probs, events"
   ]
  },
  {
   "cell_type": "code",
   "execution_count": null,
   "metadata": {
    "executionInfo": {
     "elapsed": 10,
     "status": "ok",
     "timestamp": 1718627417696,
     "user": {
      "displayName": "Alexey Umnov",
      "userId": "05815039600690784543"
     },
     "user_tz": -240
    },
    "id": "e1uoAe0sWJkI"
   },
   "outputs": [],
   "source": [
    "# probs, events = find_events('/content/freesound_442485_dogs_barking_60sec.wav')\n",
    "# events"
   ]
  },
  {
   "cell_type": "code",
   "execution_count": null,
   "metadata": {
    "executionInfo": {
     "elapsed": 9,
     "status": "ok",
     "timestamp": 1718627417696,
     "user": {
      "displayName": "Alexey Umnov",
      "userId": "05815039600690784543"
     },
     "user_tz": -240
    },
    "id": "BtpBqXJnWttY"
   },
   "outputs": [],
   "source": [
    "# probs, events = find_events('/content/freesound_471408_birds_90sec.wav')\n",
    "# events"
   ]
  },
  {
   "cell_type": "code",
   "execution_count": null,
   "metadata": {
    "colab": {
     "base_uri": "https://localhost:8080/"
    },
    "executionInfo": {
     "elapsed": 118420,
     "status": "ok",
     "timestamp": 1718627536107,
     "user": {
      "displayName": "Alexey Umnov",
      "userId": "05815039600690784543"
     },
     "user_tz": -240
    },
    "id": "FTboCApQWzrr",
    "outputId": "81653c9c-2283-4e6c-d86b-7ab11bceff93"
   },
   "outputs": [],
   "source": [
    "probs, events = find_events('/content/recorded_street_150sec.wav')\n",
    "events"
   ]
  },
  {
   "cell_type": "code",
   "execution_count": null,
   "metadata": {
    "executionInfo": {
     "elapsed": 16,
     "status": "ok",
     "timestamp": 1718627536108,
     "user": {
      "displayName": "Alexey Umnov",
      "userId": "05815039600690784543"
     },
     "user_tz": -240
    },
    "id": "3h3DCLAv8ole"
   },
   "outputs": [],
   "source": [
    "# probs, top_labels = find_events('/content/freesound_442485_dogs_barking_60sec.wav')\n",
    "# top_classes = torch.argsort(probs, dim=-1, descending=True)[:, :5]\n",
    "# for i in range(top_classes.shape[0]):\n",
    "#     print([(model.config.id2label[id.item()], id.item(), probs[i, id].item()) for id in top_classes[i]])"
   ]
  },
  {
   "cell_type": "markdown",
   "metadata": {
    "id": "9uo5lvJA4Abr"
   },
   "source": [
    "# AudioSet Antology"
   ]
  },
  {
   "cell_type": "code",
   "execution_count": null,
   "metadata": {
    "colab": {
     "base_uri": "https://localhost:8080/"
    },
    "executionInfo": {
     "elapsed": 471,
     "status": "ok",
     "timestamp": 1718627536568,
     "user": {
      "displayName": "Alexey Umnov",
      "userId": "05815039600690784543"
     },
     "user_tz": -240
    },
    "id": "j5x15Xmw3vzt",
    "outputId": "de26d835-a4b1-4fac-8244-aa2f26da2356"
   },
   "outputs": [],
   "source": [
    "!curl https://raw.githubusercontent.com/audioset/ontology/master/ontology.json > ontology.json"
   ]
  },
  {
   "cell_type": "code",
   "execution_count": null,
   "metadata": {
    "executionInfo": {
     "elapsed": 12,
     "status": "ok",
     "timestamp": 1718627536569,
     "user": {
      "displayName": "Alexey Umnov",
      "userId": "05815039600690784543"
     },
     "user_tz": -240
    },
    "id": "vTCegeKDmIHY"
   },
   "outputs": [],
   "source": [
    "ROOT_NAME = '<root>'\n",
    "\n",
    "def build_ontology_tree(ontology_data):\n",
    "    id_to_obj = {}\n",
    "    for el in ontology_data:\n",
    "        id_to_obj[el['id']] = el\n",
    "\n",
    "    name_to_node = {}\n",
    "    for el in ontology_data:\n",
    "        name_to_node[el['name']] = {\n",
    "            'children': [id_to_obj[id]['name'] for id in el['child_ids']],\n",
    "            'abstract': 'abstract' in el['restrictions'],\n",
    "            'blacklist': 'blacklist' in el['restrictions'],\n",
    "        }\n",
    "\n",
    "    top_level = set(name_to_node.keys())\n",
    "    for node in name_to_node.values():\n",
    "        top_level -= set(node['children'])\n",
    "\n",
    "    name_to_node['<root>'] = {\n",
    "        'children': list(top_level),\n",
    "        'abstract': True,\n",
    "        'blacklist': False,\n",
    "    }\n",
    "\n",
    "    return name_to_node"
   ]
  },
  {
   "cell_type": "code",
   "execution_count": null,
   "metadata": {
    "executionInfo": {
     "elapsed": 11,
     "status": "ok",
     "timestamp": 1718627536569,
     "user": {
      "displayName": "Alexey Umnov",
      "userId": "05815039600690784543"
     },
     "user_tz": -240
    },
    "id": "TjpEhHMyylAL"
   },
   "outputs": [],
   "source": [
    "def remove_recursive(nodes, parent_name, name):\n",
    "    for child_name in nodes[name]['children']:\n",
    "        remove_recursive(nodes, name, child_name)\n",
    "    nodes[parent_name]['children'].remove(name)\n",
    "    del nodes[name]\n",
    "\n",
    "def manual_fix_nodes(nodes):\n",
    "    nodes['Sounds of things']['abstract'] = True\n",
    "    nodes['Sounds of things']['blacklist'] = False\n",
    "\n",
    "    nodes['Natural sounds']['abstract'] = True\n",
    "    nodes['Natural sounds']['blacklist'] = False\n",
    "\n",
    "    nodes['Microphone']['abstract'] = True\n",
    "    nodes['Microphone']['blacklist'] = False\n",
    "\n",
    "    nodes['Domestic sounds, home sounds']['abstract'] = True\n",
    "    nodes['Domestic sounds, home sounds']['blacklist'] = False\n",
    "\n",
    "    nodes['Non-motorized land vehicle']['abstract'] = True"
   ]
  },
  {
   "cell_type": "code",
   "execution_count": null,
   "metadata": {
    "colab": {
     "base_uri": "https://localhost:8080/"
    },
    "executionInfo": {
     "elapsed": 10,
     "status": "ok",
     "timestamp": 1718627536569,
     "user": {
      "displayName": "Alexey Umnov",
      "userId": "05815039600690784543"
     },
     "user_tz": -240
    },
    "id": "C9J_SJKf4PSW",
    "outputId": "537d5748-63d7-4442-b109-9895eb8935d6"
   },
   "outputs": [],
   "source": [
    "import json\n",
    "\n",
    "with open('ontology.json') as f:\n",
    "    ontology_raw = json.load(f)\n",
    "\n",
    "nodes = build_ontology_tree(ontology_raw)\n",
    "\n",
    "manual_fix_nodes(nodes)\n",
    "\n",
    "remove_recursive(nodes, ROOT_NAME, 'Channel, environment and background')\n",
    "\n",
    "len(nodes)"
   ]
  },
  {
   "cell_type": "code",
   "execution_count": null,
   "metadata": {
    "colab": {
     "base_uri": "https://localhost:8080/"
    },
    "executionInfo": {
     "elapsed": 7,
     "status": "ok",
     "timestamp": 1718627537313,
     "user": {
      "displayName": "Alexey Umnov",
      "userId": "05815039600690784543"
     },
     "user_tz": -240
    },
    "id": "u_gHD3O3mIJb",
    "outputId": "435ac586-bb1b-4300-f8e5-4b803f6a1cbe"
   },
   "outputs": [],
   "source": [
    "model_classes = set(model.config.label2id.keys())\n",
    "len(model_classes)"
   ]
  },
  {
   "cell_type": "code",
   "execution_count": null,
   "metadata": {
    "executionInfo": {
     "elapsed": 5,
     "status": "ok",
     "timestamp": 1718627537313,
     "user": {
      "displayName": "Alexey Umnov",
      "userId": "05815039600690784543"
     },
     "user_tz": -240
    },
    "id": "KjpuQFcMmILg"
   },
   "outputs": [],
   "source": [
    "def add_not_in_model_property(nodes, model_classes):\n",
    "    for name, node in nodes.items():\n",
    "        if name in model_classes:\n",
    "            node['not_in_model'] = False\n",
    "        else:\n",
    "            node['not_in_model'] = True\n",
    "\n",
    "add_not_in_model_property(nodes, model_classes)"
   ]
  },
  {
   "cell_type": "code",
   "execution_count": null,
   "metadata": {
    "executionInfo": {
     "elapsed": 5,
     "status": "ok",
     "timestamp": 1718627537314,
     "user": {
      "displayName": "Alexey Umnov",
      "userId": "05815039600690784543"
     },
     "user_tz": -240
    },
    "id": "uBgMUWttkzXE"
   },
   "outputs": [],
   "source": [
    "def check_blacklist_subtrees(nodes):\n",
    "    def check_recursive(name):\n",
    "        node = nodes[name]\n",
    "        all_children = True\n",
    "        for child_name in node['children']:\n",
    "            if not check_recursive(child_name):\n",
    "                all_children = False\n",
    "\n",
    "        if node['blacklist'] and all_children:\n",
    "            node['blacklist_subtree'] = True\n",
    "        else:\n",
    "            if node['blacklist'] and node['children'] and not all_children:\n",
    "                print(\"Warning: '\" + name + \"' - blacklist but not blacklist subtree\")\n",
    "            node['blacklist_subtree'] = False\n",
    "        return node['blacklist_subtree']\n",
    "\n",
    "    check_recursive(ROOT_NAME)\n",
    "\n",
    "check_blacklist_subtrees(nodes)"
   ]
  },
  {
   "cell_type": "code",
   "execution_count": null,
   "metadata": {
    "executionInfo": {
     "elapsed": 5,
     "status": "ok",
     "timestamp": 1718627537314,
     "user": {
      "displayName": "Alexey Umnov",
      "userId": "05815039600690784543"
     },
     "user_tz": -240
    },
    "id": "c49o0G02kzZO"
   },
   "outputs": [],
   "source": [
    "def check_not_in_model_subtrees(nodes):\n",
    "    def check_recursive(name):\n",
    "        node = nodes[name]\n",
    "        all_children = True\n",
    "        for child_name in node['children']:\n",
    "            if not check_recursive(child_name):\n",
    "                all_children = False\n",
    "\n",
    "        if node['not_in_model'] and all_children:\n",
    "            node['not_in_model_subtree'] = True\n",
    "        else:\n",
    "            if node['not_in_model'] and not node['abstract'] and node['children'] and not all_children:\n",
    "                print(\"Warning: '\" + name + \"' - non-abstract not in model with children in model\")\n",
    "            node['not_in_model_subtree'] = False\n",
    "        return node['not_in_model_subtree']\n",
    "\n",
    "    check_recursive(ROOT_NAME)\n",
    "\n",
    "check_not_in_model_subtrees(nodes)"
   ]
  },
  {
   "cell_type": "code",
   "execution_count": null,
   "metadata": {
    "executionInfo": {
     "elapsed": 407,
     "status": "ok",
     "timestamp": 1718627545023,
     "user": {
      "displayName": "Alexey Umnov",
      "userId": "05815039600690784543"
     },
     "user_tz": -240
    },
    "id": "IOXugA3jkzbW"
   },
   "outputs": [],
   "source": [
    "def remove_by_property(nodes, property_name):\n",
    "    def remove_by_property_recursive(name):\n",
    "        for child_name in list(nodes[name]['children']):  # copy for correctness\n",
    "            if child_name not in nodes:  # duplicate reference, already deleted\n",
    "                nodes[name]['children'].remove(child_name)\n",
    "            else:\n",
    "                if nodes[child_name][property_name]:\n",
    "                    remove_recursive(nodes, name, child_name)\n",
    "                else:\n",
    "                    remove_by_property_recursive(child_name)\n",
    "\n",
    "    remove_by_property_recursive(ROOT_NAME)\n",
    "\n",
    "remove_by_property(nodes, 'blacklist_subtree')\n",
    "remove_by_property(nodes, 'not_in_model_subtree')"
   ]
  },
  {
   "cell_type": "code",
   "execution_count": null,
   "metadata": {
    "colab": {
     "base_uri": "https://localhost:8080/"
    },
    "executionInfo": {
     "elapsed": 344,
     "status": "ok",
     "timestamp": 1718627556175,
     "user": {
      "displayName": "Alexey Umnov",
      "userId": "05815039600690784543"
     },
     "user_tz": -240
    },
    "id": "q0VLdjqekzdc",
    "outputId": "7ece6ba5-8a78-4655-ab9a-d0a0a2c4eabe"
   },
   "outputs": [],
   "source": [
    "len(nodes)"
   ]
  },
  {
   "cell_type": "code",
   "execution_count": null,
   "metadata": {
    "colab": {
     "base_uri": "https://localhost:8080/"
    },
    "executionInfo": {
     "elapsed": 460,
     "status": "ok",
     "timestamp": 1718628729616,
     "user": {
      "displayName": "Alexey Umnov",
      "userId": "05815039600690784543"
     },
     "user_tz": -240
    },
    "id": "Ba7jg45QL5jF",
    "outputId": "792c7a8e-a1c0-4da7-c164-bc5af43750a6"
   },
   "outputs": [],
   "source": [
    "def pretty_print_tree(nodes, label2id, probs, prob_cutoff=0.0):\n",
    "    def pp_recursive(name, indent):\n",
    "        if not nodes[name]['abstract'] and probs[label2id[name]].item() < prob_cutoff:\n",
    "            return\n",
    "\n",
    "        if nodes[name]['abstract']:\n",
    "            prob_str = \" (abstract)\"\n",
    "        else:\n",
    "            prob_str = \" ({:.3%})\".format(probs[label2id[name]].item())\n",
    "\n",
    "        print(indent + name + prob_str)\n",
    "        for child_name in nodes[name]['children']:\n",
    "            pp_recursive(child_name, indent + '- ')\n",
    "\n",
    "    for child_name in nodes[ROOT_NAME]['children']:\n",
    "        pp_recursive(child_name, indent='')\n",
    "\n",
    "pretty_print_tree(nodes, model.config.label2id, probs[1], prob_cutoff=0.01)"
   ]
  },
  {
   "cell_type": "code",
   "execution_count": null,
   "metadata": {
    "id": "3mndcCPtiYpA"
   },
   "outputs": [],
   "source": []
  }
 ],
 "metadata": {
  "accelerator": "GPU",
  "colab": {
   "authorship_tag": "ABX9TyNFScylZXSeLF5sBuW2q1Hk",
   "collapsed_sections": [
    "OkiYq093brGT",
    "YqNHI9Cl_Jz_",
    "4iG8YpP_Cg1t",
    "wNbL8N75CmhN"
   ],
   "gpuType": "T4",
   "mount_file_id": "12aAYC8-dxrANzqX1nveErYuWUYa3_iuG",
   "provenance": []
  },
  "kernelspec": {
   "display_name": "Python 3 (ipykernel)",
   "language": "python",
   "name": "python3"
  },
  "language_info": {
   "codemirror_mode": {
    "name": "ipython",
    "version": 3
   },
   "file_extension": ".py",
   "mimetype": "text/x-python",
   "name": "python",
   "nbconvert_exporter": "python",
   "pygments_lexer": "ipython3",
   "version": "3.11.7"
  }
 },
 "nbformat": 4,
 "nbformat_minor": 4
}
