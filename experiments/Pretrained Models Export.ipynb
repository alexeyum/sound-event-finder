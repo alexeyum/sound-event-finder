{
 "cells": [
  {
   "cell_type": "markdown",
   "metadata": {
    "id": "2X6PIH0dZy5j"
   },
   "source": [
    "**DEPRECATED: easy export to mobile failed**"
   ]
  },
  {
   "cell_type": "code",
   "execution_count": null,
   "metadata": {
    "id": "KvHtwcjxnYa7"
   },
   "outputs": [],
   "source": [
    "!pip install -qq transformers"
   ]
  },
  {
   "cell_type": "code",
   "execution_count": null,
   "metadata": {
    "id": "CM0xUzxcrztF"
   },
   "outputs": [],
   "source": [
    "import os.path\n",
    "\n",
    "import torch\n",
    "import torch.nn as nn\n",
    "from torch.utils.mobile_optimizer import optimize_for_mobile\n",
    "\n",
    "from transformers import AutoFeatureExtractor, ASTForAudioClassification"
   ]
  },
  {
   "cell_type": "code",
   "execution_count": null,
   "metadata": {
    "colab": {
     "base_uri": "https://localhost:8080/",
     "height": 0
    },
    "id": "UK3WJqdTnfmO",
    "outputId": "6e9c4f0d-5fa7-4149-e64e-1225b13ce009"
   },
   "outputs": [],
   "source": [
    "extractor = AutoFeatureExtractor.from_pretrained(\"MIT/ast-finetuned-audioset-10-10-0.4593\")\n",
    "extractor"
   ]
  },
  {
   "cell_type": "code",
   "execution_count": null,
   "metadata": {
    "colab": {
     "base_uri": "https://localhost:8080/",
     "height": 0
    },
    "id": "mHdLYIOhnled",
    "outputId": "1c745a79-fd97-4eb9-8795-9683c24cb2e6"
   },
   "outputs": [],
   "source": [
    "model = ASTForAudioClassification.from_pretrained(\"MIT/ast-finetuned-audioset-10-10-0.4593\")\n",
    "model"
   ]
  },
  {
   "cell_type": "code",
   "execution_count": null,
   "metadata": {
    "id": "6Ut4sNaqobAI"
   },
   "outputs": [],
   "source": [
    "class ModelProbabilities(nn.Module):\n",
    "    def __init__(self, model):\n",
    "        super().__init__()\n",
    "        self.model = model\n",
    "\n",
    "    def forward(self, x):\n",
    "        return torch.sigmoid(self.model(input_values=x).logits)\n",
    "\n",
    "model_prob = ModelProbabilities(model)"
   ]
  },
  {
   "cell_type": "code",
   "execution_count": null,
   "metadata": {
    "id": "62XKT81fspXt"
   },
   "outputs": [],
   "source": [
    "sampling_rate = 16000\n",
    "sample_input = torch.distributions.uniform.Uniform(-10000, 10000).sample((sampling_rate * 10,))"
   ]
  },
  {
   "cell_type": "code",
   "execution_count": null,
   "metadata": {
    "colab": {
     "base_uri": "https://localhost:8080/"
    },
    "id": "7FTO1720wa7e",
    "outputId": "2b2e3d3e-055e-4c4c-8000-2f4232bd601f"
   },
   "outputs": [],
   "source": [
    "sample_features = extractor(sample_input, sampling_rate, return_tensors=\"pt\")['input_values']\n",
    "sample_features.shape"
   ]
  },
  {
   "cell_type": "code",
   "execution_count": null,
   "metadata": {
    "colab": {
     "base_uri": "https://localhost:8080/"
    },
    "id": "n690WguxougP",
    "outputId": "8bdb36f1-7d74-4a7b-f6ea-a563ac39cb2f"
   },
   "outputs": [],
   "source": [
    "model_prob(sample_features).shape"
   ]
  },
  {
   "cell_type": "code",
   "execution_count": null,
   "metadata": {
    "colab": {
     "base_uri": "https://localhost:8080/"
    },
    "id": "cE1pYmsEtRta",
    "outputId": "6ce1f09e-0c6f-4d56-85d6-965e13333b79"
   },
   "outputs": [],
   "source": [
    "traced_model = torch.jit.trace(model_prob, sample_features)\n",
    "traced_model_optimized = optimize_for_mobile(traced_model)"
   ]
  },
  {
   "cell_type": "code",
   "execution_count": null,
   "metadata": {
    "colab": {
     "base_uri": "https://localhost:8080/",
     "height": 501
    },
    "id": "pO5jnwINtTX5",
    "outputId": "da96d133-18bd-446f-e0e5-c834db5e79be"
   },
   "outputs": [],
   "source": [
    "def extractor_func(inputs):\n",
    "    return extractor(inputs, sampling_rate, return_tensors=\"pt\")['input_values']\n",
    "\n",
    "traced_extractor = torch.jit.trace(extractor_func, sample_input)\n",
    "\n",
    "traced_extractor_optimized = optimize_for_mobile(traced_extractor)"
   ]
  },
  {
   "cell_type": "code",
   "execution_count": null,
   "metadata": {
    "colab": {
     "base_uri": "https://localhost:8080/",
     "height": 203
    },
    "id": "lbWZ22RY3kcE",
    "outputId": "13872887-424a-4bc8-d90b-13a4f83df8bf"
   },
   "outputs": [],
   "source": [
    "output_path = './drive/MyDrive/Projects/MiniSoundFinder_v2/exports/'\n",
    "\n",
    "traced_model._save_for_lite_interpreter(\n",
    "    os.path.join(output_path, 'ast.pt'))\n",
    "\n",
    "traced_extractor._save_for_lite_interpreter(\n",
    "    os.path.join(output_path, 'extractor.pt'))"
   ]
  },
  {
   "cell_type": "code",
   "execution_count": null,
   "metadata": {
    "id": "CQKgkhi3XsaB"
   },
   "outputs": [],
   "source": []
  }
 ],
 "metadata": {
  "colab": {
   "provenance": []
  },
  "kernelspec": {
   "display_name": "Python 3 (ipykernel)",
   "language": "python",
   "name": "python3"
  },
  "language_info": {
   "codemirror_mode": {
    "name": "ipython",
    "version": 3
   },
   "file_extension": ".py",
   "mimetype": "text/x-python",
   "name": "python",
   "nbconvert_exporter": "python",
   "pygments_lexer": "ipython3",
   "version": "3.11.7"
  }
 },
 "nbformat": 4,
 "nbformat_minor": 4
}
